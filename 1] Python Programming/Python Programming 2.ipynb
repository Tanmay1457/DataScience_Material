{
 "cells": [
  {
   "cell_type": "markdown",
   "id": "080e8530",
   "metadata": {},
   "source": [
    "# ----------------------------------Lecture 05 to 07-------------------------------------------"
   ]
  },
  {
   "cell_type": "markdown",
   "id": "4dfe6156",
   "metadata": {},
   "source": [
    "# Lecture 05"
   ]
  },
  {
   "cell_type": "code",
   "execution_count": 4,
   "id": "c6ed347e",
   "metadata": {},
   "outputs": [],
   "source": [
    "#Prime no......................\n",
    "\n",
    "def is_prime(num):\n",
    "    for i in range(2,num):\n",
    "        if num%i==0:\n",
    "            print(\"Not prime\")\n",
    "            break\n",
    "    else:\n",
    "        print(\"prime no\")\n",
    "    "
   ]
  },
  {
   "cell_type": "code",
   "execution_count": 5,
   "id": "8d331209",
   "metadata": {},
   "outputs": [
    {
     "name": "stdout",
     "output_type": "stream",
     "text": [
      "prime no\n"
     ]
    }
   ],
   "source": [
    "is_prime(3)"
   ]
  },
  {
   "cell_type": "code",
   "execution_count": 6,
   "id": "4a837a6f",
   "metadata": {},
   "outputs": [
    {
     "name": "stdout",
     "output_type": "stream",
     "text": [
      "\n"
     ]
    },
    {
     "data": {
      "text/plain": [
       "NoneType"
      ]
     },
     "execution_count": 6,
     "metadata": {},
     "output_type": "execute_result"
    }
   ],
   "source": [
    "type(print(\"\"))"
   ]
  },
  {
   "cell_type": "code",
   "execution_count": 7,
   "id": "1c59cced",
   "metadata": {},
   "outputs": [
    {
     "ename": "TypeError",
     "evalue": "'int' object is not iterable",
     "output_type": "error",
     "traceback": [
      "\u001b[1;31m---------------------------------------------------------------------------\u001b[0m",
      "\u001b[1;31mTypeError\u001b[0m                                 Traceback (most recent call last)",
      "\u001b[1;32m~\\AppData\\Local\\Temp\\ipykernel_19844\\3656031508.py\u001b[0m in \u001b[0;36m<module>\u001b[1;34m\u001b[0m\n\u001b[1;32m----> 1\u001b[1;33m \u001b[1;32mfor\u001b[0m \u001b[0mi\u001b[0m \u001b[1;32min\u001b[0m \u001b[1;36m7\u001b[0m\u001b[1;33m:\u001b[0m\u001b[1;33m\u001b[0m\u001b[1;33m\u001b[0m\u001b[0m\n\u001b[0m\u001b[0;32m      2\u001b[0m     \u001b[1;32mpass\u001b[0m\u001b[1;33m\u001b[0m\u001b[1;33m\u001b[0m\u001b[0m\n",
      "\u001b[1;31mTypeError\u001b[0m: 'int' object is not iterable"
     ]
    }
   ],
   "source": [
    "for i in 7:\n",
    "    pass"
   ]
  },
  {
   "cell_type": "code",
   "execution_count": 8,
   "id": "e7c4cd73",
   "metadata": {},
   "outputs": [],
   "source": [
    "for i in \"tan\":\n",
    "    pass"
   ]
  },
  {
   "cell_type": "code",
   "execution_count": 14,
   "id": "f8b66416",
   "metadata": {},
   "outputs": [
    {
     "ename": "TypeError",
     "evalue": "'str' object is not an iterator",
     "output_type": "error",
     "traceback": [
      "\u001b[1;31m---------------------------------------------------------------------------\u001b[0m",
      "\u001b[1;31mTypeError\u001b[0m                                 Traceback (most recent call last)",
      "\u001b[1;32m~\\AppData\\Local\\Temp\\ipykernel_19844\\1420664912.py\u001b[0m in \u001b[0;36m<module>\u001b[1;34m\u001b[0m\n\u001b[1;32m----> 1\u001b[1;33m \u001b[0mnext\u001b[0m\u001b[1;33m(\u001b[0m\u001b[1;34m\"tan\"\u001b[0m\u001b[1;33m)\u001b[0m \u001b[1;31m# string is iterable object\u001b[0m\u001b[1;33m\u001b[0m\u001b[1;33m\u001b[0m\u001b[0m\n\u001b[0m\u001b[0;32m      2\u001b[0m \u001b[1;31m#by using for loops we make string as iter\u001b[0m\u001b[1;33m\u001b[0m\u001b[1;33m\u001b[0m\u001b[0m\n\u001b[0;32m      3\u001b[0m \u001b[1;33m\u001b[0m\u001b[0m\n\u001b[0;32m      4\u001b[0m \u001b[1;31m#if dataset is iterable then we convert it into iterator\u001b[0m\u001b[1;33m\u001b[0m\u001b[1;33m\u001b[0m\u001b[0m\n",
      "\u001b[1;31mTypeError\u001b[0m: 'str' object is not an iterator"
     ]
    }
   ],
   "source": [
    "next(\"tan\") # string is iterable object \n",
    "#by using for loops we make string as iter\n",
    "\n",
    "#if dataset is iterable object then we convert it into iterator object"
   ]
  },
  {
   "cell_type": "code",
   "execution_count": 15,
   "id": "70461f5d",
   "metadata": {},
   "outputs": [
    {
     "data": {
      "text/plain": [
       "str_iterator"
      ]
     },
     "execution_count": 15,
     "metadata": {},
     "output_type": "execute_result"
    }
   ],
   "source": [
    "a=iter(\"tan\")\n",
    "type(a)"
   ]
  },
  {
   "cell_type": "code",
   "execution_count": 16,
   "id": "55b95426",
   "metadata": {},
   "outputs": [
    {
     "data": {
      "text/plain": [
       "'t'"
      ]
     },
     "execution_count": 16,
     "metadata": {},
     "output_type": "execute_result"
    }
   ],
   "source": [
    "next(a)"
   ]
  },
  {
   "cell_type": "code",
   "execution_count": 17,
   "id": "329af6dd",
   "metadata": {},
   "outputs": [
    {
     "data": {
      "text/plain": [
       "'a'"
      ]
     },
     "execution_count": 17,
     "metadata": {},
     "output_type": "execute_result"
    }
   ],
   "source": [
    "next(a)"
   ]
  },
  {
   "cell_type": "code",
   "execution_count": 19,
   "id": "44f7c2ba",
   "metadata": {},
   "outputs": [
    {
     "ename": "TypeError",
     "evalue": "'range' object is not an iterator",
     "output_type": "error",
     "traceback": [
      "\u001b[1;31m---------------------------------------------------------------------------\u001b[0m",
      "\u001b[1;31mTypeError\u001b[0m                                 Traceback (most recent call last)",
      "\u001b[1;32m~\\AppData\\Local\\Temp\\ipykernel_19844\\1066684221.py\u001b[0m in \u001b[0;36m<module>\u001b[1;34m\u001b[0m\n\u001b[1;32m----> 1\u001b[1;33m \u001b[0mnext\u001b[0m\u001b[1;33m(\u001b[0m\u001b[0mrange\u001b[0m\u001b[1;33m(\u001b[0m\u001b[1;36m10\u001b[0m\u001b[1;33m)\u001b[0m\u001b[1;33m)\u001b[0m\u001b[1;33m\u001b[0m\u001b[1;33m\u001b[0m\u001b[0m\n\u001b[0m",
      "\u001b[1;31mTypeError\u001b[0m: 'range' object is not an iterator"
     ]
    }
   ],
   "source": [
    "next(range(10))"
   ]
  },
  {
   "cell_type": "code",
   "execution_count": 20,
   "id": "b7d9d6b9",
   "metadata": {},
   "outputs": [],
   "source": [
    "d=iter(range(10))"
   ]
  },
  {
   "cell_type": "code",
   "execution_count": 21,
   "id": "1421bd8a",
   "metadata": {},
   "outputs": [
    {
     "data": {
      "text/plain": [
       "0"
      ]
     },
     "execution_count": 21,
     "metadata": {},
     "output_type": "execute_result"
    }
   ],
   "source": [
    "next(d)"
   ]
  },
  {
   "cell_type": "code",
   "execution_count": 22,
   "id": "1242c97e",
   "metadata": {},
   "outputs": [
    {
     "data": {
      "text/plain": [
       "1"
      ]
     },
     "execution_count": 22,
     "metadata": {},
     "output_type": "execute_result"
    }
   ],
   "source": [
    "next(d)"
   ]
  },
  {
   "cell_type": "code",
   "execution_count": 23,
   "id": "6959e28b",
   "metadata": {},
   "outputs": [],
   "source": [
    "# Generator Function that give object we can iterate over object\n",
    "\n",
    "def gencube(n):\n",
    "    for i in range(n):\n",
    "        print(i**3)\n",
    "    \n"
   ]
  },
  {
   "cell_type": "code",
   "execution_count": 24,
   "id": "4aeadc1f",
   "metadata": {},
   "outputs": [
    {
     "name": "stdout",
     "output_type": "stream",
     "text": [
      "0\n",
      "1\n",
      "8\n",
      "27\n",
      "64\n",
      "125\n",
      "216\n",
      "343\n",
      "512\n",
      "729\n"
     ]
    }
   ],
   "source": [
    "gencube(10) # cube of 1 to 9"
   ]
  },
  {
   "cell_type": "code",
   "execution_count": 25,
   "id": "09298c9f",
   "metadata": {},
   "outputs": [],
   "source": [
    "def gencube(n):\n",
    "    for i in range(n):\n",
    "        yield i**3 #creating an object then it will be able to extract dataset"
   ]
  },
  {
   "cell_type": "code",
   "execution_count": 26,
   "id": "56b63c5c",
   "metadata": {},
   "outputs": [
    {
     "data": {
      "text/plain": [
       "<generator object gencube at 0x00000209F43A8270>"
      ]
     },
     "execution_count": 26,
     "metadata": {},
     "output_type": "execute_result"
    }
   ],
   "source": [
    "gencube(10)"
   ]
  },
  {
   "cell_type": "code",
   "execution_count": 27,
   "id": "8f7d46ed",
   "metadata": {},
   "outputs": [
    {
     "name": "stdout",
     "output_type": "stream",
     "text": [
      "0\n",
      "1\n",
      "8\n",
      "27\n",
      "64\n",
      "125\n",
      "216\n",
      "343\n",
      "512\n",
      "729\n"
     ]
    }
   ],
   "source": [
    " for i in gencube(10): #it is generator function\n",
    "        print(i)"
   ]
  },
  {
   "cell_type": "code",
   "execution_count": 29,
   "id": "fb399442",
   "metadata": {},
   "outputs": [
    {
     "data": {
      "text/plain": [
       "0"
      ]
     },
     "execution_count": 29,
     "metadata": {},
     "output_type": "execute_result"
    }
   ],
   "source": [
    "next(gencube(10)) # it print only zero at all time"
   ]
  },
  {
   "cell_type": "code",
   "execution_count": 34,
   "id": "4cf2d1ba",
   "metadata": {},
   "outputs": [],
   "source": [
    "v=iter(gencube(10))"
   ]
  },
  {
   "cell_type": "code",
   "execution_count": 35,
   "id": "ff96158f",
   "metadata": {},
   "outputs": [
    {
     "data": {
      "text/plain": [
       "0"
      ]
     },
     "execution_count": 35,
     "metadata": {},
     "output_type": "execute_result"
    }
   ],
   "source": [
    "next(v)"
   ]
  },
  {
   "cell_type": "code",
   "execution_count": 36,
   "id": "c8772c3d",
   "metadata": {},
   "outputs": [
    {
     "data": {
      "text/plain": [
       "1"
      ]
     },
     "execution_count": 36,
     "metadata": {},
     "output_type": "execute_result"
    }
   ],
   "source": [
    "next(v)"
   ]
  },
  {
   "cell_type": "code",
   "execution_count": 39,
   "id": "57deaf2d",
   "metadata": {},
   "outputs": [],
   "source": [
    "#fibonacci using Generator function\n",
    "\n",
    "def genfi(n):\n",
    "        a=1\n",
    "        b=1\n",
    "        for i in range(n):\n",
    "            yield a #try to remember what do in last type\n",
    "            a,b=b,a+b #swaping operation"
   ]
  },
  {
   "cell_type": "code",
   "execution_count": 40,
   "id": "7eb58785",
   "metadata": {},
   "outputs": [
    {
     "data": {
      "text/plain": [
       "<generator object genfi at 0x00000209F43A8AC0>"
      ]
     },
     "execution_count": 40,
     "metadata": {},
     "output_type": "execute_result"
    }
   ],
   "source": [
    "genfi(10) # return generator object"
   ]
  },
  {
   "cell_type": "code",
   "execution_count": 41,
   "id": "8bd03965",
   "metadata": {},
   "outputs": [],
   "source": [
    "\n",
    "def genfi(n):\n",
    "        a=1\n",
    "        b=1\n",
    "        for i in range(n):\n",
    "            print(a)\n",
    "            a,b=b,a+b\n",
    "            \n",
    "            \"\"\"\n",
    "            a     b\n",
    "        ..............\n",
    "            1     1\n",
    "            1     2\n",
    "            2     3\n",
    "            3     5\n",
    "            .     .\n",
    "            \n",
    "            .     .\n",
    "            \"\"\""
   ]
  },
  {
   "cell_type": "code",
   "execution_count": 42,
   "id": "2796f086",
   "metadata": {},
   "outputs": [
    {
     "name": "stdout",
     "output_type": "stream",
     "text": [
      "1\n",
      "1\n",
      "2\n",
      "3\n",
      "5\n",
      "8\n",
      "13\n",
      "21\n",
      "34\n",
      "55\n"
     ]
    }
   ],
   "source": [
    "genfi(10)"
   ]
  },
  {
   "cell_type": "markdown",
   "id": "7008e471",
   "metadata": {},
   "source": [
    "# --Map function"
   ]
  },
  {
   "cell_type": "code",
   "execution_count": 46,
   "id": "99c6823b",
   "metadata": {},
   "outputs": [],
   "source": [
    "#it is optimized function\n",
    "\n",
    "def square(n):\n",
    "    return n**2"
   ]
  },
  {
   "cell_type": "code",
   "execution_count": 47,
   "id": "7ebb9cc9",
   "metadata": {},
   "outputs": [
    {
     "data": {
      "text/plain": [
       "16"
      ]
     },
     "execution_count": 47,
     "metadata": {},
     "output_type": "execute_result"
    }
   ],
   "source": [
    "square(4)"
   ]
  },
  {
   "cell_type": "code",
   "execution_count": 48,
   "id": "8b498c7b",
   "metadata": {},
   "outputs": [],
   "source": [
    "l=[3,4,5,6,7,8,9,9] #convert it into square of each and return list"
   ]
  },
  {
   "cell_type": "code",
   "execution_count": 50,
   "id": "c1ca58ac",
   "metadata": {},
   "outputs": [
    {
     "data": {
      "text/plain": [
       "[9, 16, 25, 36, 49, 64, 81, 81]"
      ]
     },
     "execution_count": 50,
     "metadata": {},
     "output_type": "execute_result"
    }
   ],
   "source": [
    "# take (function, iterable object) as argument\n",
    "list(map(square,l))\n"
   ]
  },
  {
   "cell_type": "code",
   "execution_count": 51,
   "id": "5b42a343",
   "metadata": {},
   "outputs": [
    {
     "name": "stdout",
     "output_type": "stream",
     "text": [
      "9\n",
      "16\n",
      "25\n",
      "36\n",
      "49\n",
      "64\n",
      "81\n",
      "81\n"
     ]
    }
   ],
   "source": [
    "for i in map(square,l): # work as generator object\n",
    "    print(i)"
   ]
  },
  {
   "cell_type": "code",
   "execution_count": 53,
   "id": "bee2e068",
   "metadata": {},
   "outputs": [
    {
     "data": {
      "text/plain": [
       "[9, 16, 25, 36, 49, 64, 81, 81]"
      ]
     },
     "execution_count": 53,
     "metadata": {},
     "output_type": "execute_result"
    }
   ],
   "source": [
    "# lambda is anonymous fuction i.e function without name\n",
    "#it is inline function\n",
    "\n",
    "list(map(lambda x: x**2,l))"
   ]
  },
  {
   "cell_type": "code",
   "execution_count": 54,
   "id": "79be571f",
   "metadata": {},
   "outputs": [],
   "source": [
    "c=lambda x: x**2 # store function inside variable so it is reusable"
   ]
  },
  {
   "cell_type": "code",
   "execution_count": 55,
   "id": "3f9523bc",
   "metadata": {},
   "outputs": [
    {
     "data": {
      "text/plain": [
       "[9, 16, 25, 36, 49, 64, 81, 81]"
      ]
     },
     "execution_count": 55,
     "metadata": {},
     "output_type": "execute_result"
    }
   ],
   "source": [
    "list(map(c,l))"
   ]
  },
  {
   "cell_type": "code",
   "execution_count": 56,
   "id": "4e53d617",
   "metadata": {},
   "outputs": [],
   "source": [
    "#final list is sum of index i of three list and go onwardsi.e[10,13,..]\n",
    "a=[1,2,3,4]\n",
    "b=[3,4,2,1]\n",
    "c=[6,7,4,5,6,2,5] #perform row wise operation "
   ]
  },
  {
   "cell_type": "code",
   "execution_count": 57,
   "id": "9cfb132b",
   "metadata": {},
   "outputs": [],
   "source": [
    "def summation(x,y,z):\n",
    "    return x+y+z"
   ]
  },
  {
   "cell_type": "code",
   "execution_count": 59,
   "id": "a8687718",
   "metadata": {},
   "outputs": [
    {
     "data": {
      "text/plain": [
       "[10, 13, 9, 10]"
      ]
     },
     "execution_count": 59,
     "metadata": {},
     "output_type": "execute_result"
    }
   ],
   "source": [
    "list(map(summation,a,b,c)) # remaining is null"
   ]
  },
  {
   "cell_type": "code",
   "execution_count": 61,
   "id": "870bab80",
   "metadata": {},
   "outputs": [
    {
     "data": {
      "text/plain": [
       "[10, 13, 9, 10]"
      ]
     },
     "execution_count": 61,
     "metadata": {},
     "output_type": "execute_result"
    }
   ],
   "source": [
    "list(map(lambda x,y,z:x+y+z,a,b,c))"
   ]
  },
  {
   "cell_type": "markdown",
   "id": "82f56627",
   "metadata": {},
   "source": [
    "# --Reduce function"
   ]
  },
  {
   "cell_type": "code",
   "execution_count": 62,
   "id": "11102a34",
   "metadata": {},
   "outputs": [],
   "source": [
    "#not available in python need to import\n",
    "from functools import reduce"
   ]
  },
  {
   "cell_type": "code",
   "execution_count": 63,
   "id": "59f88cfe",
   "metadata": {},
   "outputs": [],
   "source": [
    "def summation(a,b):\n",
    "    return a+b"
   ]
  },
  {
   "cell_type": "code",
   "execution_count": 64,
   "id": "e6ce9f01",
   "metadata": {},
   "outputs": [
    {
     "data": {
      "text/plain": [
       "39"
      ]
     },
     "execution_count": 64,
     "metadata": {},
     "output_type": "execute_result"
    }
   ],
   "source": [
    "l=[4,5,6,7,8,9]\n",
    "reduce(summation,l)"
   ]
  },
  {
   "cell_type": "code",
   "execution_count": 66,
   "id": "f213760f",
   "metadata": {},
   "outputs": [
    {
     "data": {
      "text/plain": [
       "39"
      ]
     },
     "execution_count": 66,
     "metadata": {},
     "output_type": "execute_result"
    }
   ],
   "source": [
    " l=[4,5,6,7,8,9] # reduce function take function with two argument only\n",
    "reduce(lambda x,y:x+y,l)"
   ]
  },
  {
   "cell_type": "markdown",
   "id": "9726c87b",
   "metadata": {},
   "source": [
    "# --Filter Function"
   ]
  },
  {
   "cell_type": "code",
   "execution_count": 67,
   "id": "3353537e",
   "metadata": {},
   "outputs": [],
   "source": [
    "#filter data based on condition\n",
    "\n",
    "l=[4,5,6,7,8,9,5,6]\n"
   ]
  },
  {
   "cell_type": "code",
   "execution_count": 68,
   "id": "8b5f51af",
   "metadata": {},
   "outputs": [
    {
     "data": {
      "text/plain": [
       "[4, 6, 8, 6]"
      ]
     },
     "execution_count": 68,
     "metadata": {},
     "output_type": "execute_result"
    }
   ],
   "source": [
    "#filter give data when it return True\n",
    "\n",
    "list(filter(lambda x: x%2 ==0,l))"
   ]
  },
  {
   "cell_type": "markdown",
   "id": "f234b536",
   "metadata": {},
   "source": [
    "# Lecture 06"
   ]
  },
  {
   "cell_type": "markdown",
   "id": "0a04dec5",
   "metadata": {},
   "source": [
    "# -- Object Oriented Programming"
   ]
  },
  {
   "cell_type": "markdown",
   "id": "4fbb83c5",
   "metadata": {},
   "source": [
    "The 4 pillars of object-oriented programming (OOP) in Python (and generally in programming) are:\n",
    "\n",
    "* Encapsulation: Bundling data (attributes) and methods (functions) that operate on the data into a single unit (class).\n",
    "* Abstraction: Hiding complex implementation details and providing a simplified interface.\n",
    "* Inheritance: Allowing a class to inherit attributes and methods from another class, promoting code reuse.\n",
    "* Polymorphism: Using a single interface to represent different data types or objects."
   ]
  },
  {
   "cell_type": "code",
   "execution_count": 51,
   "id": "9dd73649",
   "metadata": {},
   "outputs": [
    {
     "name": "stdout",
     "output_type": "stream",
     "text": [
      "<class 'int'>\n"
     ]
    }
   ],
   "source": [
    "# class is classification of real world entity\n",
    "# object is instance of class\n",
    "\n",
    "i =10\n",
    "print(type(i))"
   ]
  },
  {
   "cell_type": "code",
   "execution_count": 52,
   "id": "818dd419",
   "metadata": {},
   "outputs": [],
   "source": [
    "class test:\n",
    "    pass"
   ]
  },
  {
   "cell_type": "code",
   "execution_count": 53,
   "id": "830be244",
   "metadata": {},
   "outputs": [],
   "source": [
    "class person:\n",
    "    pass"
   ]
  },
  {
   "cell_type": "code",
   "execution_count": 59,
   "id": "e8c5c0df",
   "metadata": {},
   "outputs": [],
   "source": [
    "p=person() #object"
   ]
  },
  {
   "cell_type": "code",
   "execution_count": 60,
   "id": "f147698f",
   "metadata": {},
   "outputs": [
    {
     "name": "stdout",
     "output_type": "stream",
     "text": [
      "<__main__.person object at 0x0000025DAB991220>\n"
     ]
    }
   ],
   "source": [
    "print(p)"
   ]
  },
  {
   "cell_type": "code",
   "execution_count": 61,
   "id": "1e8c7d3d",
   "metadata": {},
   "outputs": [],
   "source": [
    "p.name = \"tanmay\"\n",
    "p.sname=\"nigade\"\n",
    "p.yob = 1232002"
   ]
  },
  {
   "cell_type": "code",
   "execution_count": 62,
   "id": "5af01599",
   "metadata": {},
   "outputs": [],
   "source": [
    "a = person\n",
    "a.name =\"abc\"\n",
    "a.yob=3334\n",
    "a.empno=2345"
   ]
  },
  {
   "cell_type": "code",
   "execution_count": 64,
   "id": "489a9ba0",
   "metadata": {},
   "outputs": [
    {
     "data": {
      "text/plain": [
       "'tanmay'"
      ]
     },
     "execution_count": 64,
     "metadata": {},
     "output_type": "execute_result"
    }
   ],
   "source": [
    "p.name \n"
   ]
  },
  {
   "cell_type": "code",
   "execution_count": 65,
   "id": "e2f46c00",
   "metadata": {},
   "outputs": [
    {
     "data": {
      "text/plain": [
       "'nigade'"
      ]
     },
     "execution_count": 65,
     "metadata": {},
     "output_type": "execute_result"
    }
   ],
   "source": [
    "p.sname"
   ]
  },
  {
   "cell_type": "code",
   "execution_count": 66,
   "id": "4ac22d6f",
   "metadata": {},
   "outputs": [],
   "source": [
    "#method inside class\n",
    "\n",
    "class person:  # self is reference pointer we can take any name instead self\n",
    "    def __init__(self,name,surname,yob): # init is default method\n",
    "        self.name=name\n",
    "        self.surname=surname\n",
    "        self.yob=yob"
   ]
  },
  {
   "cell_type": "code",
   "execution_count": 67,
   "id": "59184b60",
   "metadata": {},
   "outputs": [
    {
     "name": "stdout",
     "output_type": "stream",
     "text": [
      "<__main__.person object at 0x0000025DAB9910A0>\n"
     ]
    }
   ],
   "source": [
    "p=person(\"tanm\",\"nig\",123)  #object of class person\n",
    "print(p)"
   ]
  },
  {
   "cell_type": "code",
   "execution_count": 68,
   "id": "68e84647",
   "metadata": {},
   "outputs": [
    {
     "name": "stdout",
     "output_type": "stream",
     "text": [
      "<__main__.person object at 0x0000025DAB9910A0>\n"
     ]
    }
   ],
   "source": [
    "s=person(\"tani\",\"nigade\",1235)  #object of class person\n",
    "print(p)"
   ]
  },
  {
   "cell_type": "code",
   "execution_count": 69,
   "id": "f0e9bcd4",
   "metadata": {},
   "outputs": [
    {
     "data": {
      "text/plain": [
       "'tanm'"
      ]
     },
     "execution_count": 69,
     "metadata": {},
     "output_type": "execute_result"
    }
   ],
   "source": [
    "p.name"
   ]
  },
  {
   "cell_type": "code",
   "execution_count": 70,
   "id": "3b0ae148",
   "metadata": {},
   "outputs": [
    {
     "data": {
      "text/plain": [
       "'tani'"
      ]
     },
     "execution_count": 70,
     "metadata": {},
     "output_type": "execute_result"
    }
   ],
   "source": [
    "s.name"
   ]
  },
  {
   "cell_type": "code",
   "execution_count": 71,
   "id": "7085c2b3",
   "metadata": {},
   "outputs": [],
   "source": [
    "class person:  \n",
    "    def __init__(self,name,surname,yob):\n",
    "        self.name=name\n",
    "        self.surname=surname\n",
    "        self.yob=yob\n",
    "         \n",
    "    def test(self,n,m): #Method we can  create any no of method inside class\n",
    "        return n+m+self.yob  # access inside using self or other name \n",
    "    \n",
    "    def __str__(self): # str inbuild method always return string\n",
    "        return \"%s name,%s surname,%d is dob\"%(self.name,self.surname,self.yob)\n",
    "    "
   ]
  },
  {
   "cell_type": "code",
   "execution_count": 72,
   "id": "d7469ec4",
   "metadata": {},
   "outputs": [],
   "source": [
    "p= person(\"tan\",\"nig\",2002)"
   ]
  },
  {
   "cell_type": "code",
   "execution_count": 73,
   "id": "a4d4ff53",
   "metadata": {},
   "outputs": [
    {
     "data": {
      "text/plain": [
       "2071"
      ]
     },
     "execution_count": 73,
     "metadata": {},
     "output_type": "execute_result"
    }
   ],
   "source": [
    "p.test(34,35)"
   ]
  },
  {
   "cell_type": "code",
   "execution_count": 74,
   "id": "07922ab9",
   "metadata": {},
   "outputs": [
    {
     "name": "stdout",
     "output_type": "stream",
     "text": [
      "tan name,nig surname,2002 is dob\n"
     ]
    }
   ],
   "source": [
    "print(p)"
   ]
  },
  {
   "cell_type": "code",
   "execution_count": 75,
   "id": "fa9e3724",
   "metadata": {},
   "outputs": [],
   "source": [
    "class person:\n",
    "    def pass_name(self,name):\n",
    "        self.name=name#creating own method to pass data\n",
    "    def pass_sname(self,sname):\n",
    "        self.sname=sname\n",
    "    def pass_yob(self,yob):\n",
    "        self.yob=yob "
   ]
  },
  {
   "cell_type": "code",
   "execution_count": 76,
   "id": "f8920eb4",
   "metadata": {},
   "outputs": [],
   "source": [
    "p = person()"
   ]
  },
  {
   "cell_type": "code",
   "execution_count": 83,
   "id": "4b5032c4",
   "metadata": {},
   "outputs": [],
   "source": [
    "p.pass_name(\"tan\")\n",
    "p.pass_sname(\"nig\")\n",
    "p.pass_yob(2002)"
   ]
  },
  {
   "cell_type": "code",
   "execution_count": 84,
   "id": "b892e40f",
   "metadata": {},
   "outputs": [
    {
     "data": {
      "text/plain": [
       "'tan'"
      ]
     },
     "execution_count": 84,
     "metadata": {},
     "output_type": "execute_result"
    }
   ],
   "source": [
    "p.name"
   ]
  },
  {
   "cell_type": "code",
   "execution_count": 85,
   "id": "8dc8f6f2",
   "metadata": {},
   "outputs": [],
   "source": [
    "s=person()"
   ]
  },
  {
   "cell_type": "code",
   "execution_count": 86,
   "id": "e8be039e",
   "metadata": {},
   "outputs": [
    {
     "ename": "AttributeError",
     "evalue": "'person' object has no attribute 'name'",
     "output_type": "error",
     "traceback": [
      "\u001b[1;31m---------------------------------------------------------------------------\u001b[0m",
      "\u001b[1;31mAttributeError\u001b[0m                            Traceback (most recent call last)",
      "\u001b[1;32m~\\AppData\\Local\\Temp\\ipykernel_13476\\3776615351.py\u001b[0m in \u001b[0;36m<module>\u001b[1;34m\u001b[0m\n\u001b[1;32m----> 1\u001b[1;33m \u001b[0ms\u001b[0m\u001b[1;33m.\u001b[0m\u001b[0mname\u001b[0m\u001b[1;33m\u001b[0m\u001b[1;33m\u001b[0m\u001b[0m\n\u001b[0m",
      "\u001b[1;31mAttributeError\u001b[0m: 'person' object has no attribute 'name'"
     ]
    }
   ],
   "source": [
    "s.name"
   ]
  },
  {
   "cell_type": "markdown",
   "id": "73af8587",
   "metadata": {},
   "source": [
    "# Abstraction"
   ]
  },
  {
   "cell_type": "code",
   "execution_count": 87,
   "id": "b5162c1e",
   "metadata": {},
   "outputs": [],
   "source": [
    "# here _ underscore is protected notation without underscore is public\n",
    "\n",
    "class person:  \n",
    "    def __init__(self,name,surname,yob):\n",
    "        self._name=name\n",
    "        self._surname=surname\n",
    "        self._yob=yob\n",
    "         \n",
    "    def test(self,n,m): \n",
    "        return n+m+self._yob  \n",
    "    \n",
    "    def __str__(self):\n",
    "        return \"%s name,%s surname,%d is dob\"%(self._name,self._surname,self._yob)\n",
    "    "
   ]
  },
  {
   "cell_type": "code",
   "execution_count": 88,
   "id": "34a5f222",
   "metadata": {},
   "outputs": [],
   "source": [
    "p=person(\"tan\",\"nig\",2002)"
   ]
  },
  {
   "cell_type": "code",
   "execution_count": 90,
   "id": "5c2c22fe",
   "metadata": {},
   "outputs": [
    {
     "data": {
      "text/plain": [
       "'tan'"
      ]
     },
     "execution_count": 90,
     "metadata": {},
     "output_type": "execute_result"
    }
   ],
   "source": [
    "p._name"
   ]
  },
  {
   "cell_type": "code",
   "execution_count": 91,
   "id": "2f652a0e",
   "metadata": {},
   "outputs": [
    {
     "data": {
      "text/plain": [
       "{'_name': 'tan', '_surname': 'nig', '_yob': 2002}"
      ]
     },
     "execution_count": 91,
     "metadata": {},
     "output_type": "execute_result"
    }
   ],
   "source": [
    "p.__dict__ "
   ]
  },
  {
   "cell_type": "code",
   "execution_count": 103,
   "id": "51811faa",
   "metadata": {},
   "outputs": [],
   "source": [
    "# here __ double underscore is private notation without underscore is public\n",
    "\n",
    "class person:  \n",
    "    def __init__(self,name,surname,yob):\n",
    "        self.__name=name #private\n",
    "        self._surname=surname\n",
    "        self._yob=yob\n",
    "         \n",
    "    def test(self,n,m): \n",
    "        return n+m+self._yob  \n",
    "    \n",
    "    def __str__(self):\n",
    "        return \"%s name,%s surname,%d is dob\"%(self._name,self._surname,self._yob)\n",
    "    "
   ]
  },
  {
   "cell_type": "code",
   "execution_count": 104,
   "id": "ca311cfa",
   "metadata": {},
   "outputs": [],
   "source": [
    "p=person(\"tan\",\"nig\",2002)"
   ]
  },
  {
   "cell_type": "code",
   "execution_count": 105,
   "id": "3da8f206",
   "metadata": {},
   "outputs": [
    {
     "ename": "AttributeError",
     "evalue": "'person' object has no attribute '__name'",
     "output_type": "error",
     "traceback": [
      "\u001b[1;31m---------------------------------------------------------------------------\u001b[0m",
      "\u001b[1;31mAttributeError\u001b[0m                            Traceback (most recent call last)",
      "\u001b[1;32m~\\AppData\\Local\\Temp\\ipykernel_13476\\3042909722.py\u001b[0m in \u001b[0;36m<module>\u001b[1;34m\u001b[0m\n\u001b[1;32m----> 1\u001b[1;33m \u001b[0mp\u001b[0m\u001b[1;33m.\u001b[0m\u001b[0m__name\u001b[0m\u001b[1;33m\u001b[0m\u001b[1;33m\u001b[0m\u001b[0m\n\u001b[0m",
      "\u001b[1;31mAttributeError\u001b[0m: 'person' object has no attribute '__name'"
     ]
    }
   ],
   "source": [
    "p.__name"
   ]
  },
  {
   "cell_type": "code",
   "execution_count": 106,
   "id": "78b03521",
   "metadata": {},
   "outputs": [
    {
     "data": {
      "text/plain": [
       "{'_person__name': 'tan', '_surname': 'nig', '_yob': 2002}"
      ]
     },
     "execution_count": 106,
     "metadata": {},
     "output_type": "execute_result"
    }
   ],
   "source": [
    "p.__dict__"
   ]
  },
  {
   "cell_type": "code",
   "execution_count": 107,
   "id": "6c48285f",
   "metadata": {},
   "outputs": [
    {
     "data": {
      "text/plain": [
       "'tan'"
      ]
     },
     "execution_count": 107,
     "metadata": {},
     "output_type": "execute_result"
    }
   ],
   "source": [
    "p._person__name #private"
   ]
  },
  {
   "cell_type": "code",
   "execution_count": 7,
   "id": "db6b9efb",
   "metadata": {},
   "outputs": [
    {
     "name": "stdout",
     "output_type": "stream",
     "text": [
      "Woof woof\n",
      "Sleeping...\n",
      "Meow meow\n",
      "Sleeping...\n"
     ]
    }
   ],
   "source": [
    "from abc import ABC, abstractmethod\n",
    "\n",
    "class Animal(ABC):\n",
    "    @abstractmethod\n",
    "    def sound(self):\n",
    "        pass\n",
    "\n",
    "    def sleep(self):\n",
    "        print(\"Sleeping...\")\n",
    "\n",
    "class Dog(Animal):\n",
    "    def sound(self):\n",
    "        print(\"Woof woof\")\n",
    "\n",
    "class Cat(Animal):\n",
    "    def sound(self):\n",
    "        print(\"Meow meow\")\n",
    "\n",
    "# Usage\n",
    "dog = Dog()\n",
    "cat = Cat()\n",
    "\n",
    "dog.sound()  \n",
    "dog.sleep()  \n",
    "\n",
    "cat.sound()  \n",
    "cat.sleep()  \n"
   ]
  },
  {
   "cell_type": "markdown",
   "id": "b5078da0",
   "metadata": {},
   "source": [
    "# -- Inheritance"
   ]
  },
  {
   "cell_type": "markdown",
   "id": "266d060a",
   "metadata": {},
   "source": [
    "* It represents real-world relationships well.\n",
    "* It provides the reusability of a code. We don’t have to write the same code again and again. Also, it allows us to add more features to a class without modifying it.\n",
    "* It is transitive in nature, which means that if class B inherits from another class A, then all the subclasses of B would automatically inherit from class A."
   ]
  },
  {
   "cell_type": "raw",
   "id": "8a7aed0c",
   "metadata": {},
   "source": [
    "Types of Inheritance\n",
    "Single Inheritance: Single-level inheritance enables a derived class to inherit characteristics from a single-parent class.\n",
    "Multilevel Inheritance: Multi-level inheritance enables a derived class to inherit properties from an immediate parent class which in turn inherits properties from his parent class. \n",
    "Hierarchical Inheritance: Hierarchical-level inheritance enables more than one derived class to inherit properties from a parent class.\n",
    "Multiple Inheritance: Multiple-level inheritance enables one derived class to inherit properties from more than one base class."
   ]
  },
  {
   "cell_type": "code",
   "execution_count": 110,
   "id": "0bfc5c2e",
   "metadata": {},
   "outputs": [],
   "source": [
    "\n",
    "\n",
    "class person:  \n",
    "    def __init__(self,name,surname,yob):\n",
    "        self._name=name #private\n",
    "        self._surname=surname\n",
    "        self._yob=yob\n",
    "         \n",
    "    def test(self,n,m): \n",
    "        return n+m+self._yob  \n",
    "    \n",
    "    def __str__(self):\n",
    "        return \"%s name,%s surname,%d is dob\"%(self._name,self._surname,self._yob)\n",
    "    "
   ]
  },
  {
   "cell_type": "code",
   "execution_count": 111,
   "id": "e0d7897a",
   "metadata": {},
   "outputs": [],
   "source": [
    "class student(person): #class inside class call to the parent\n",
    "    def __init__(self,roll_no,college_name,*args):\n",
    "        super(student,self ).__init__(*args) #super(student,self ) is the person class\n",
    "        self.roll_no=roll_no\n",
    "        self.college_name=college_name\n",
    "        \n",
    "stud = student(1685,\"iit\",\"tan\",\"man\",2343)"
   ]
  },
  {
   "cell_type": "code",
   "execution_count": 112,
   "id": "a8b6a4f8",
   "metadata": {},
   "outputs": [
    {
     "data": {
      "text/plain": [
       "'tan'"
      ]
     },
     "execution_count": 112,
     "metadata": {},
     "output_type": "execute_result"
    }
   ],
   "source": [
    "stud._name"
   ]
  },
  {
   "cell_type": "code",
   "execution_count": 113,
   "id": "07dcce2a",
   "metadata": {},
   "outputs": [
    {
     "data": {
      "text/plain": [
       "2352"
      ]
     },
     "execution_count": 113,
     "metadata": {},
     "output_type": "execute_result"
    }
   ],
   "source": [
    "stud.test(4,5)"
   ]
  },
  {
   "cell_type": "code",
   "execution_count": 118,
   "id": "2a4e3bed",
   "metadata": {},
   "outputs": [
    {
     "name": "stdout",
     "output_type": "stream",
     "text": [
      "Tanmay\n",
      "Nigade\n",
      "Nigade\n"
     ]
    }
   ],
   "source": [
    "#Multiple inheritance allow in python\n",
    "\n",
    "class a:\n",
    "    \n",
    "    def test(self):\n",
    "        print(\"Tanmay\")\n",
    "        \n",
    "        \n",
    "class b:\n",
    "    \n",
    "    def test(self):\n",
    "        print(\"Nigade\")\n",
    "        \n",
    "class c(b,a):\n",
    "    obja = a()\n",
    "    objb = b()\n",
    "    obja.test()\n",
    "    objb.test()\n",
    "    \n",
    "objc =c()\n",
    "objc.test() # call only first class due to class c(a,b): ,if class c(b,a): 2nd class first\n",
    "    "
   ]
  },
  {
   "cell_type": "code",
   "execution_count": 1,
   "id": "4138b9c6",
   "metadata": {},
   "outputs": [
    {
     "name": "stdout",
     "output_type": "stream",
     "text": [
      "Parent Name: John\n",
      "Child Name: John, Age: 12\n"
     ]
    }
   ],
   "source": [
    "#In single inheritance, a class is derived from one parent class.\n",
    "#The super() function is a built-in function that returns the objects that represent the parent class. \n",
    "#It allows to access the parent class’s methods and attributes in the child class.\n",
    "\n",
    "class Parent:\n",
    "    def __init__(self, name):\n",
    "        self.name = name\n",
    "\n",
    "    def display_name(self):\n",
    "        print(f\"Parent Name: {self.name}\")\n",
    "\n",
    "class Child(Parent):\n",
    "    def __init__(self, name, age):\n",
    "        super().__init__(name)\n",
    "        self.age = age\n",
    "\n",
    "    def display_info(self):\n",
    "        print(f\"Child Name: {self.name}, Age: {self.age}\")\n",
    "\n",
    "# Usage\n",
    "child = Child(\"John\", 12)\n",
    "child.display_name()   \n",
    "child.display_info()   "
   ]
  },
  {
   "cell_type": "code",
   "execution_count": 2,
   "id": "09f56597",
   "metadata": {},
   "outputs": [
    {
     "name": "stdout",
     "output_type": "stream",
     "text": [
      "Family Name: Smith\n",
      "Parent Name: Michael\n",
      "Child Name: John\n"
     ]
    }
   ],
   "source": [
    "#In multilevel inheritance, a class is derived from a class which is also derived from another class.\n",
    "\n",
    "class Grandparent:\n",
    "    def __init__(self, family_name):\n",
    "        self.family_name = family_name\n",
    "\n",
    "    def display_family_name(self):\n",
    "        print(f\"Family Name: {self.family_name}\")\n",
    "\n",
    "class Parent(Grandparent):\n",
    "    def __init__(self, family_name, parent_name):\n",
    "        super().__init__(family_name)\n",
    "        self.parent_name = parent_name\n",
    "\n",
    "    def display_parent_name(self):\n",
    "        print(f\"Parent Name: {self.parent_name}\")\n",
    "\n",
    "class Child(Parent):\n",
    "    def __init__(self, family_name, parent_name, child_name):\n",
    "        super().__init__(family_name, parent_name)\n",
    "        self.child_name = child_name\n",
    "\n",
    "    def display_child_name(self):\n",
    "        print(f\"Child Name: {self.child_name}\")\n",
    "\n",
    "# Usage\n",
    "child = Child(\"Smith\", \"Michael\", \"John\")\n",
    "child.display_family_name()   \n",
    "child.display_parent_name()   \n",
    "child.display_child_name() "
   ]
  },
  {
   "cell_type": "code",
   "execution_count": 3,
   "id": "a95e8a28",
   "metadata": {},
   "outputs": [
    {
     "name": "stdout",
     "output_type": "stream",
     "text": [
      "Parent Name: John\n",
      "Child1 Name: John, Age: 12\n",
      "Parent Name: Alice\n",
      "Child2 Name: Alice, Grade: A\n"
     ]
    }
   ],
   "source": [
    "#In hierarchical inheritance, multiple classes are derived from a single parent class.\n",
    "\n",
    "class Parent:\n",
    "    def __init__(self, name):\n",
    "        self.name = name\n",
    "\n",
    "    def display_name(self):\n",
    "        print(f\"Parent Name: {self.name}\")\n",
    "\n",
    "class Child1(Parent):\n",
    "    def __init__(self, name, age):\n",
    "        super().__init__(name)\n",
    "        self.age = age\n",
    "\n",
    "    def display_info(self):\n",
    "        print(f\"Child1 Name: {self.name}, Age: {self.age}\")\n",
    "\n",
    "class Child2(Parent):\n",
    "    def __init__(self, name, grade):\n",
    "        super().__init__(name)\n",
    "        self.grade = grade\n",
    "\n",
    "    def display_info(self):\n",
    "        print(f\"Child2 Name: {self.name}, Grade: {self.grade}\")\n",
    "\n",
    "# Usage\n",
    "child1 = Child1(\"John\", 12)\n",
    "child2 = Child2(\"Alice\", \"A\")\n",
    "\n",
    "child1.display_name()    \n",
    "child1.display_info()    \n",
    "\n",
    "child2.display_name()    \n",
    "child2.display_info()  "
   ]
  },
  {
   "cell_type": "code",
   "execution_count": 4,
   "id": "4107e572",
   "metadata": {},
   "outputs": [
    {
     "name": "stdout",
     "output_type": "stream",
     "text": [
      "Parent1 Name: John\n",
      "Parent2 Name: Doe\n",
      "Child Name: John Doe, Age: 12\n"
     ]
    }
   ],
   "source": [
    "#In multiple inheritance, a class is derived from more than one base class.\n",
    "\n",
    "class Parent1:\n",
    "    def __init__(self, name1):\n",
    "        self.name1 = name1\n",
    "\n",
    "    def display_name1(self):\n",
    "        print(f\"Parent1 Name: {self.name1}\")\n",
    "\n",
    "class Parent2:\n",
    "    def __init__(self, name2):\n",
    "        self.name2 = name2\n",
    "\n",
    "    def display_name2(self):\n",
    "        print(f\"Parent2 Name: {self.name2}\")\n",
    "\n",
    "class Child(Parent1, Parent2):\n",
    "    def __init__(self, name1, name2, age):\n",
    "        Parent1.__init__(self, name1)\n",
    "        Parent2.__init__(self, name2)\n",
    "        self.age = age\n",
    "\n",
    "    def display_info(self):\n",
    "        print(f\"Child Name: {self.name1} {self.name2}, Age: {self.age}\")\n",
    "\n",
    "# Usage\n",
    "child = Child(\"John\", \"Doe\", 12)\n",
    "child.display_name1()   \n",
    "child.display_name2()   \n",
    "child.display_info() "
   ]
  },
  {
   "cell_type": "markdown",
   "id": "97da64ed",
   "metadata": {},
   "source": [
    "# Polymorphism"
   ]
  },
  {
   "cell_type": "markdown",
   "id": "f909526d",
   "metadata": {},
   "source": [
    "In object oriented Programming Python, Polymorphism simply means having many forms. For example, we need to determine if the given species of birds fly or not, using polymorphism we can do this using a single function."
   ]
  },
  {
   "cell_type": "code",
   "execution_count": 5,
   "id": "098ca475",
   "metadata": {},
   "outputs": [
    {
     "name": "stdout",
     "output_type": "stream",
     "text": [
      "There are many types of birds.\n",
      "Most of the birds can fly but some cannot.\n",
      "There are many types of birds.\n",
      "Sparrows can fly.\n",
      "There are many types of birds.\n",
      "Ostriches cannot fly.\n"
     ]
    }
   ],
   "source": [
    "class Bird:\n",
    "  \n",
    "    def intro(self):\n",
    "        print(\"There are many types of birds.\")\n",
    "\n",
    "    def flight(self):\n",
    "        print(\"Most of the birds can fly but some cannot.\")\n",
    "\n",
    "class sparrow(Bird):\n",
    "  \n",
    "    def flight(self):\n",
    "        print(\"Sparrows can fly.\")\n",
    "\n",
    "class ostrich(Bird):\n",
    "\n",
    "    def flight(self):\n",
    "        print(\"Ostriches cannot fly.\")\n",
    "\n",
    "obj_bird = Bird()\n",
    "obj_spr = sparrow()\n",
    "obj_ost = ostrich()\n",
    "\n",
    "obj_bird.intro()\n",
    "obj_bird.flight()\n",
    "\n",
    "obj_spr.intro()\n",
    "obj_spr.flight()\n",
    "\n",
    "obj_ost.intro()\n",
    "obj_ost.flight()\n"
   ]
  },
  {
   "cell_type": "markdown",
   "id": "7d65ba0c",
   "metadata": {},
   "source": [
    "# Encapsulation"
   ]
  },
  {
   "cell_type": "markdown",
   "id": "e5a14e9a",
   "metadata": {},
   "source": [
    "Encapsulation is one of the fundamental concepts in object-oriented programming (OOP). It describes the idea of wrapping data and the methods that work on data within one unit. This puts restrictions on accessing variables and methods directly and can prevent the accidental modification of data."
   ]
  },
  {
   "cell_type": "code",
   "execution_count": 6,
   "id": "1b10dadd",
   "metadata": {},
   "outputs": [
    {
     "name": "stdout",
     "output_type": "stream",
     "text": [
      "John Doe\n",
      "30\n",
      "Name: John Doe, Age: 30\n",
      "30\n",
      "123-45-6789\n"
     ]
    }
   ],
   "source": [
    "class Person:\n",
    "    def __init__(self, name, age):\n",
    "        self.name = name          # Public attribute\n",
    "        self._age = age           # Protected attribute\n",
    "        self.__ssn = \"123-45-6789\"  # Private attribute\n",
    "\n",
    "    # Public method\n",
    "    def display_info(self):\n",
    "        print(f\"Name: {self.name}, Age: {self._age}\")\n",
    "\n",
    "    # Protected method\n",
    "    def _get_age(self):\n",
    "        return self._age\n",
    "\n",
    "    # Private method\n",
    "    def __get_ssn(self):\n",
    "        return self.__ssn\n",
    "\n",
    "    # Public method to access private attribute\n",
    "    def get_ssn(self):\n",
    "        return self.__get_ssn()\n",
    "\n",
    "# Usage\n",
    "person = Person(\"John Doe\", 30)\n",
    "\n",
    "# Accessing public attribute\n",
    "print(person.name)  # Output: John Doe\n",
    "\n",
    "# Accessing protected attribute (not recommended)\n",
    "print(person._age)  # Output: 30\n",
    "\n",
    "# Accessing private attribute directly (will raise an AttributeError)\n",
    "# print(person.__ssn)  # Uncommenting this line will cause an error\n",
    "\n",
    "# Accessing public method\n",
    "person.display_info()  # Output: Name: John Doe, Age: 30\n",
    "\n",
    "# Accessing protected method (not recommended)\n",
    "print(person._get_age())  # Output: 30\n",
    "\n",
    "# Accessing private method directly (will raise an AttributeError)\n",
    "# print(person.__get_ssn())  # Uncommenting this line will cause an error\n",
    "\n",
    "# Accessing private attribute through public method\n",
    "print(person.get_ssn())  # Output: 123-45-6789\n"
   ]
  },
  {
   "cell_type": "markdown",
   "id": "8aff40a8",
   "metadata": {},
   "source": [
    "# Lecture No 07"
   ]
  },
  {
   "cell_type": "markdown",
   "id": "7cc1ee56",
   "metadata": {},
   "source": [
    "# -- Exception Handling"
   ]
  },
  {
   "cell_type": "markdown",
   "id": "f01dfba3",
   "metadata": {},
   "source": [
    "Exceptions in Python using try, except, and finally statements. Exceptions are raised when the program is syntactically correct, but the code results in an error. This error does not stop the execution of the program, however, it changes the normal flow of the program."
   ]
  },
  {
   "cell_type": "raw",
   "id": "130d1b00",
   "metadata": {},
   "source": [
    "Different types of exceptions in python:\n",
    "In Python, there are several built-in Python exceptions that can be raised when an error occurs during the execution of a program. Here are some of the most common types of exceptions in Python:\n",
    "\n",
    "SyntaxError: This exception is raised when the interpreter encounters a syntax error in the code, such as a misspelled keyword, a missing colon, or an unbalanced parenthesis.\n",
    "TypeError: This exception is raised when an operation or function is applied to an object of the wrong type, such as adding a string to an integer.\n",
    "NameError: This exception is raised when a variable or function name is not found in the current scope.\n",
    "IndexError: This exception is raised when an index is out of range for a list, tuple, or other sequence types.\n",
    "KeyError: This exception is raised when a key is not found in a dictionary.\n",
    "ValueError: This exception is raised when a function or method is called with an invalid argument or input, such as trying to convert a string to an integer when the string does not represent a valid integer.\n",
    "AttributeError: This exception is raised when an attribute or method is not found on an object, such as trying to access a non-existent attribute of a class instance.\n",
    "IOError: This exception is raised when an I/O operation, such as reading or writing a file, fails due to an input/output error.\n",
    "ZeroDivisionError: This exception is raised when an attempt is made to divide a number by zero.\n",
    "ImportError: This exception is raised when an import statement fails to find or load a module."
   ]
  },
  {
   "cell_type": "code",
   "execution_count": 8,
   "id": "c34bbfc5",
   "metadata": {},
   "outputs": [
    {
     "ename": "ZeroDivisionError",
     "evalue": "division by zero",
     "output_type": "error",
     "traceback": [
      "\u001b[1;31m---------------------------------------------------------------------------\u001b[0m",
      "\u001b[1;31mZeroDivisionError\u001b[0m                         Traceback (most recent call last)",
      "\u001b[1;32m~\\AppData\\Local\\Temp\\ipykernel_10192\\3819768881.py\u001b[0m in \u001b[0;36m<module>\u001b[1;34m\u001b[0m\n\u001b[0;32m      1\u001b[0m \u001b[0mmarks\u001b[0m \u001b[1;33m=\u001b[0m \u001b[1;36m10000\u001b[0m\u001b[1;33m\u001b[0m\u001b[1;33m\u001b[0m\u001b[0m\n\u001b[1;32m----> 2\u001b[1;33m \u001b[0ma\u001b[0m \u001b[1;33m=\u001b[0m \u001b[0mmarks\u001b[0m \u001b[1;33m/\u001b[0m \u001b[1;36m0\u001b[0m\u001b[1;33m\u001b[0m\u001b[1;33m\u001b[0m\u001b[0m\n\u001b[0m\u001b[0;32m      3\u001b[0m \u001b[0mprint\u001b[0m\u001b[1;33m(\u001b[0m\u001b[0ma\u001b[0m\u001b[1;33m)\u001b[0m\u001b[1;33m\u001b[0m\u001b[1;33m\u001b[0m\u001b[0m\n",
      "\u001b[1;31mZeroDivisionError\u001b[0m: division by zero"
     ]
    }
   ],
   "source": [
    "marks = 10000\n",
    "a = marks / 0\n",
    "print(a)\n"
   ]
  },
  {
   "cell_type": "markdown",
   "id": "edd3c44c",
   "metadata": {},
   "source": [
    "* try catch block to resolve it:\n",
    "The code attempts to add an integer (‘x') and a string (‘y') together, which is not a valid operation, and it will raise a ‘TypeError'. The code used a ‘try' and ‘except' block to catch this exception and print an error message."
   ]
  },
  {
   "cell_type": "code",
   "execution_count": 9,
   "id": "8c3335f4",
   "metadata": {},
   "outputs": [
    {
     "name": "stdout",
     "output_type": "stream",
     "text": [
      "Error: cannot add an int and a str\n"
     ]
    }
   ],
   "source": [
    "x = 5\n",
    "y = \"hello\"\n",
    "try:\n",
    "\tz = x + y\n",
    "except TypeError:\n",
    "\tprint(\"Error: cannot add an int and a str\")\n"
   ]
  },
  {
   "cell_type": "markdown",
   "id": "26235078",
   "metadata": {},
   "source": [
    "* Try and Except Statement – Catching Exceptions\n",
    "Try and except statements are used to catch and handle exceptions in Python. Statements that can raise exceptions are kept inside the try clause and the statements that handle the exception are written inside except clause."
   ]
  },
  {
   "cell_type": "code",
   "execution_count": 10,
   "id": "152219a1",
   "metadata": {},
   "outputs": [
    {
     "name": "stdout",
     "output_type": "stream",
     "text": [
      "Second element = 2\n",
      "An error occurred\n"
     ]
    }
   ],
   "source": [
    "a = [1, 2, 3]\n",
    "try: \n",
    "\tprint (\"Second element = %d\" %(a[1]))\n",
    "\n",
    "\tprint (\"Fourth element = %d\" %(a[3]))\n",
    "\n",
    "except:\n",
    "\tprint (\"An error occurred\")\n"
   ]
  },
  {
   "attachments": {
    "image.png": {
     "image/png": "[encoded data removed]"
    }
   },
   "cell_type": "markdown",
   "id": "f37f66db",
   "metadata": {},
   "source": [
    "![image.png](attachment:image.png)"
   ]
  },
  {
   "cell_type": "code",
   "execution_count": 11,
   "id": "18ed0c00",
   "metadata": {},
   "outputs": [
    {
     "name": "stdout",
     "output_type": "stream",
     "text": [
      "ZeroDivisionError Occurred and Handled\n"
     ]
    }
   ],
   "source": [
    "def fun(a):\n",
    "\tif a < 4:\n",
    "\n",
    "\t\tb = a/(a-3)\n",
    "\tprint(\"Value of b = \", b)\n",
    "\t\n",
    "try:\n",
    "\tfun(3)\n",
    "\tfun(5)\n",
    "except ZeroDivisionError:\n",
    "\tprint(\"ZeroDivisionError Occurred and Handled\")\n",
    "except NameError:\n",
    "\tprint(\"NameError Occurred and Handled\")\n",
    "    \n",
    "#If you comment on the line fun(3), the output will be \n",
    "\n",
    "#NameError Occurred and Handled\n",
    "#The output above is so because as soon as python tries to access the value of b, NameError occurs. \n"
   ]
  },
  {
   "cell_type": "markdown",
   "id": "25def3ed",
   "metadata": {},
   "source": [
    "* Try with Else Clause\n",
    "In Python, you can also use the else clause on the try-except block which must be present after all the except clauses. The code enters the else block only if the try clause does not raise an exception."
   ]
  },
  {
   "cell_type": "code",
   "execution_count": 12,
   "id": "d0af85e2",
   "metadata": {},
   "outputs": [
    {
     "name": "stdout",
     "output_type": "stream",
     "text": [
      "-5.0\n",
      "a/b result in 0\n"
     ]
    }
   ],
   "source": [
    "def AbyB(a , b):\n",
    "\ttry:\n",
    "\t\tc = ((a+b) / (a-b))\n",
    "\texcept ZeroDivisionError:\n",
    "\t\tprint (\"a/b result in 0\")\n",
    "\telse:\n",
    "\t\tprint (c)\n",
    "AbyB(2.0, 3.0)\n",
    "AbyB(3.0, 3.0)\n"
   ]
  },
  {
   "attachments": {
    "image.png": {
     "image/png": "[encoded data removed]"
    }
   },
   "cell_type": "markdown",
   "id": "d14df200",
   "metadata": {},
   "source": [
    "![image.png](attachment:image.png)"
   ]
  },
  {
   "cell_type": "code",
   "execution_count": 13,
   "id": "933a0edc",
   "metadata": {},
   "outputs": [
    {
     "name": "stdout",
     "output_type": "stream",
     "text": [
      "Can't divide by zero\n",
      "This is always executed\n"
     ]
    }
   ],
   "source": [
    "try:\n",
    "\tk = 5//0\n",
    "\tprint(k)\n",
    "\n",
    "except ZeroDivisionError:\n",
    "\tprint(\"Can't divide by zero\")\n",
    "\n",
    "finally:\n",
    "\tprint('This is always executed')\n"
   ]
  },
  {
   "attachments": {
    "image.png": {
     "image/png": "[encoded data removed]"
    }
   },
   "cell_type": "markdown",
   "id": "99528706",
   "metadata": {},
   "source": [
    "![image.png](attachment:image.png)"
   ]
  },
  {
   "cell_type": "code",
   "execution_count": 14,
   "id": "7146d453",
   "metadata": {},
   "outputs": [
    {
     "name": "stdout",
     "output_type": "stream",
     "text": [
      "An exception\n"
     ]
    },
    {
     "ename": "NameError",
     "evalue": "Hi there",
     "output_type": "error",
     "traceback": [
      "\u001b[1;31m---------------------------------------------------------------------------\u001b[0m",
      "\u001b[1;31mNameError\u001b[0m                                 Traceback (most recent call last)",
      "\u001b[1;32m~\\AppData\\Local\\Temp\\ipykernel_10192\\4144963857.py\u001b[0m in \u001b[0;36m<module>\u001b[1;34m\u001b[0m\n\u001b[0;32m      1\u001b[0m \u001b[1;32mtry\u001b[0m\u001b[1;33m:\u001b[0m\u001b[1;33m\u001b[0m\u001b[1;33m\u001b[0m\u001b[0m\n\u001b[1;32m----> 2\u001b[1;33m         \u001b[1;32mraise\u001b[0m \u001b[0mNameError\u001b[0m\u001b[1;33m(\u001b[0m\u001b[1;34m\"Hi there\"\u001b[0m\u001b[1;33m)\u001b[0m\u001b[1;33m\u001b[0m\u001b[1;33m\u001b[0m\u001b[0m\n\u001b[0m\u001b[0;32m      3\u001b[0m \u001b[1;32mexcept\u001b[0m \u001b[0mNameError\u001b[0m\u001b[1;33m:\u001b[0m\u001b[1;33m\u001b[0m\u001b[1;33m\u001b[0m\u001b[0m\n\u001b[0;32m      4\u001b[0m         \u001b[0mprint\u001b[0m \u001b[1;33m(\u001b[0m\u001b[1;34m\"An exception\"\u001b[0m\u001b[1;33m)\u001b[0m\u001b[1;33m\u001b[0m\u001b[1;33m\u001b[0m\u001b[0m\n\u001b[0;32m      5\u001b[0m         \u001b[1;32mraise\u001b[0m\u001b[1;33m\u001b[0m\u001b[1;33m\u001b[0m\u001b[0m\n",
      "\u001b[1;31mNameError\u001b[0m: Hi there"
     ]
    }
   ],
   "source": [
    "try: \n",
    "\traise NameError(\"Hi there\")\n",
    "except NameError:\n",
    "\tprint (\"An exception\")\n",
    "\traise\n"
   ]
  },
  {
   "cell_type": "code",
   "execution_count": null,
   "id": "834d7a8f",
   "metadata": {},
   "outputs": [],
   "source": []
  }
 ],
 "metadata": {
  "kernelspec": {
   "display_name": "Python 3 (ipykernel)",
   "language": "python",
   "name": "python3"
  },
  "language_info": {
   "codemirror_mode": {
    "name": "ipython",
    "version": 3
   },
   "file_extension": ".py",
   "mimetype": "text/x-python",
   "name": "python",
   "nbconvert_exporter": "python",
   "pygments_lexer": "ipython3",
   "version": "3.9.13"
  }
 },
 "nbformat": 4,
 "nbformat_minor": 5
}
