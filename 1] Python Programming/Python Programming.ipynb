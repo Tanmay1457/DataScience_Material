{
 "cells": [
  {
   "cell_type": "markdown",
   "id": "fb94e26e",
   "metadata": {},
   "source": [
    "# ----------------------------------Lecture 01 to 04-------------------------------------------"
   ]
  },
  {
   "cell_type": "markdown",
   "id": "3c940707",
   "metadata": {},
   "source": [
    "# Lecture No 01"
   ]
  },
  {
   "cell_type": "markdown",
   "id": "f46571b6",
   "metadata": {},
   "source": [
    "Anaconda is distirbution (bundle of library)\n",
    "\n",
    "code editor-->python kernal-->output\n",
    "\n",
    "Anaconda prompt is command based\n",
    "\n",
    "python support scripting ,oops,etc."
   ]
  },
  {
   "cell_type": "markdown",
   "id": "e4f2bd4f",
   "metadata": {},
   "source": [
    "# -- Variable"
   ]
  },
  {
   "cell_type": "markdown",
   "id": "32d55e4c",
   "metadata": {},
   "source": [
    "Here type is not declared it is understandble by system by itself\n",
    "heap space where value store"
   ]
  },
  {
   "cell_type": "code",
   "execution_count": 38,
   "id": "89b6a040",
   "metadata": {},
   "outputs": [],
   "source": [
    "a=10.9\n",
    "\n",
    "gh='fgh'\n",
    "\n",
    "no=4 + 7j # real + no*imaginiary no"
   ]
  },
  {
   "cell_type": "code",
   "execution_count": 39,
   "id": "bd5b5be3",
   "metadata": {},
   "outputs": [
    {
     "data": {
      "text/plain": [
       "complex"
      ]
     },
     "execution_count": 39,
     "metadata": {},
     "output_type": "execute_result"
    }
   ],
   "source": [
    "type(a)\n",
    "\n",
    "type(no)  # press shift+Tab to get python documentation in same tab"
   ]
  },
  {
   "cell_type": "code",
   "execution_count": 40,
   "id": "4880ab6c",
   "metadata": {},
   "outputs": [
    {
     "data": {
      "text/plain": [
       "str"
      ]
     },
     "execution_count": 40,
     "metadata": {},
     "output_type": "execute_result"
    }
   ],
   "source": [
    "type(gh)"
   ]
  },
  {
   "cell_type": "code",
   "execution_count": 41,
   "id": "2c3a1cbf",
   "metadata": {},
   "outputs": [
    {
     "data": {
      "text/plain": [
       "4.0"
      ]
     },
     "execution_count": 41,
     "metadata": {},
     "output_type": "execute_result"
    }
   ],
   "source": [
    "no.real  # after dot press Tab to check which inbuilt function available"
   ]
  },
  {
   "cell_type": "code",
   "execution_count": 42,
   "id": "ceb52934",
   "metadata": {},
   "outputs": [
    {
     "data": {
      "text/plain": [
       "'Multiline comment'"
      ]
     },
     "execution_count": 42,
     "metadata": {},
     "output_type": "execute_result"
    }
   ],
   "source": [
    "# single line comment\n",
    "\"\"\"Multiline comment\"\"\""
   ]
  },
  {
   "attachments": {
    "image-2.png": {
     "image/png": "[encoded data removed]"
    }
   },
   "cell_type": "markdown",
   "id": "7daaad55",
   "metadata": {},
   "source": [
    "![image-2.png](attachment:image-2.png)"
   ]
  },
  {
   "cell_type": "code",
   "execution_count": 43,
   "id": "21dc963b",
   "metadata": {},
   "outputs": [
    {
     "data": {
      "text/plain": [
       "'hello world'"
      ]
     },
     "execution_count": 43,
     "metadata": {},
     "output_type": "execute_result"
    }
   ],
   "source": [
    "s = \"hello world\" # 'hello world'  enclose in double quote \n",
    "                  #when sentence has single quote vice versa\n",
    "s\n"
   ]
  },
  {
   "cell_type": "code",
   "execution_count": 44,
   "id": "1038505d",
   "metadata": {},
   "outputs": [
    {
     "name": "stdout",
     "output_type": "stream",
     "text": [
      "hello world\n"
     ]
    }
   ],
   "source": [
    "print(s)"
   ]
  },
  {
   "cell_type": "code",
   "execution_count": 45,
   "id": "5d2777b2",
   "metadata": {},
   "outputs": [
    {
     "data": {
      "text/plain": [
       "2254217630832"
      ]
     },
     "execution_count": 45,
     "metadata": {},
     "output_type": "execute_result"
    }
   ],
   "source": [
    "id(s) # location in memory and it store string in indexes access in both side"
   ]
  },
  {
   "cell_type": "code",
   "execution_count": 46,
   "id": "de464e02",
   "metadata": {},
   "outputs": [
    {
     "data": {
      "text/plain": [
       "2254101370864"
      ]
     },
     "execution_count": 46,
     "metadata": {},
     "output_type": "execute_result"
    }
   ],
   "source": [
    "id(s[1]) # location of character"
   ]
  },
  {
   "cell_type": "code",
   "execution_count": 47,
   "id": "00fb1809",
   "metadata": {},
   "outputs": [
    {
     "data": {
      "text/plain": [
       "'h'"
      ]
     },
     "execution_count": 47,
     "metadata": {},
     "output_type": "execute_result"
    }
   ],
   "source": [
    "s[0] # forward direction\n"
   ]
  },
  {
   "cell_type": "code",
   "execution_count": 48,
   "id": "53f988ed",
   "metadata": {},
   "outputs": [
    {
     "data": {
      "text/plain": [
       "'l'"
      ]
     },
     "execution_count": 48,
     "metadata": {},
     "output_type": "execute_result"
    }
   ],
   "source": [
    "s[-2] # backword direction"
   ]
  },
  {
   "cell_type": "code",
   "execution_count": 49,
   "id": "25c91b0e",
   "metadata": {},
   "outputs": [
    {
     "data": {
      "text/plain": [
       "'hello'"
      ]
     },
     "execution_count": 49,
     "metadata": {},
     "output_type": "execute_result"
    }
   ],
   "source": [
    "# Slicing operation.....................\n",
    "\n",
    "s[0:5] #exclude upperbound i.e 4"
   ]
  },
  {
   "cell_type": "code",
   "execution_count": 50,
   "id": "31801336",
   "metadata": {},
   "outputs": [
    {
     "data": {
      "text/plain": [
       "'hlo'"
      ]
     },
     "execution_count": 50,
     "metadata": {},
     "output_type": "execute_result"
    }
   ],
   "source": [
    "s[0:5:2] # 2 is jump or step i.e 0+2=2, 2+2=4\n",
    "\n",
    "# s[0:5:-1] it will not print anything bcoz it go in negative axes"
   ]
  },
  {
   "cell_type": "code",
   "execution_count": 51,
   "id": "7d0c4108",
   "metadata": {},
   "outputs": [
    {
     "data": {
      "text/plain": [
       "' olle'"
      ]
     },
     "execution_count": 51,
     "metadata": {},
     "output_type": "execute_result"
    }
   ],
   "source": [
    "s[5:0:-1] # exclude 0 index in -ive direction"
   ]
  },
  {
   "cell_type": "code",
   "execution_count": 52,
   "id": "53b16dc5",
   "metadata": {},
   "outputs": [
    {
     "data": {
      "text/plain": [
       "'dlrow olleh'"
      ]
     },
     "execution_count": 52,
     "metadata": {},
     "output_type": "execute_result"
    }
   ],
   "source": [
    "#reverse string\n",
    "\n",
    "s[::-1] # last index to -ive direction"
   ]
  },
  {
   "cell_type": "code",
   "execution_count": 53,
   "id": "15a00539",
   "metadata": {},
   "outputs": [
    {
     "data": {
      "text/plain": [
       "list"
      ]
     },
     "execution_count": 53,
     "metadata": {},
     "output_type": "execute_result"
    }
   ],
   "source": [
    "c = [1,\"tan\",'man',9.0] # or c = list()\n",
    "\n",
    "type(c)\n",
    "# list is collection of homo and heterogenous type of datastruture"
   ]
  },
  {
   "cell_type": "code",
   "execution_count": 54,
   "id": "a57b5603",
   "metadata": {},
   "outputs": [
    {
     "data": {
      "text/plain": [
       "str"
      ]
     },
     "execution_count": 54,
     "metadata": {},
     "output_type": "execute_result"
    }
   ],
   "source": [
    "type(c[1])"
   ]
  },
  {
   "cell_type": "code",
   "execution_count": 55,
   "id": "5b54b8b2",
   "metadata": {},
   "outputs": [
    {
     "data": {
      "text/plain": [
       "'you'"
      ]
     },
     "execution_count": 55,
     "metadata": {},
     "output_type": "execute_result"
    }
   ],
   "source": [
    "c = [1,\"tan\",'man',9.0,[10,20,'you']]\n",
    "c[-1][2]"
   ]
  },
  {
   "cell_type": "code",
   "execution_count": 56,
   "id": "455c2170",
   "metadata": {},
   "outputs": [
    {
     "data": {
      "text/plain": [
       "[[10, 20, 'you'], 9.0, 'man', 'tan']"
      ]
     },
     "execution_count": 56,
     "metadata": {},
     "output_type": "execute_result"
    }
   ],
   "source": [
    "c[-1:-5] # empty so due to step size 1 it cancel with each other \n",
    "c[-1:-5:-1] # problem solve step size -1 it move in -ive direction"
   ]
  },
  {
   "cell_type": "markdown",
   "id": "3a73c2ee",
   "metadata": {},
   "source": [
    "# Lecture No 02"
   ]
  },
  {
   "cell_type": "code",
   "execution_count": 57,
   "id": "f7b7b5bf",
   "metadata": {},
   "outputs": [
    {
     "data": {
      "text/plain": [
       "range(0, 10)"
      ]
     },
     "execution_count": 57,
     "metadata": {},
     "output_type": "execute_result"
    }
   ],
   "source": [
    "range(10) #behave as generator"
   ]
  },
  {
   "cell_type": "code",
   "execution_count": 58,
   "id": "db305949",
   "metadata": {},
   "outputs": [
    {
     "data": {
      "text/plain": [
       "[0, 1, 2, 3, 4, 5, 6, 7, 8, 9]"
      ]
     },
     "execution_count": 58,
     "metadata": {},
     "output_type": "execute_result"
    }
   ],
   "source": [
    "list(range(10))"
   ]
  },
  {
   "cell_type": "code",
   "execution_count": 59,
   "id": "e6e267aa",
   "metadata": {},
   "outputs": [
    {
     "data": {
      "text/plain": [
       "[3, 4, 5, 6, 7, 8, 9]"
      ]
     },
     "execution_count": 59,
     "metadata": {},
     "output_type": "execute_result"
    }
   ],
   "source": [
    "list(range(3,10))"
   ]
  },
  {
   "cell_type": "code",
   "execution_count": 60,
   "id": "cf832ac7",
   "metadata": {},
   "outputs": [
    {
     "data": {
      "text/plain": [
       "[10, 9, 8, 7, 6, 5, 4]"
      ]
     },
     "execution_count": 60,
     "metadata": {},
     "output_type": "execute_result"
    }
   ],
   "source": [
    "list(range(10,3,-1)) # list(range(10,3)) got blank list bcoz its step size is +1"
   ]
  },
  {
   "cell_type": "markdown",
   "id": "36e2abc3",
   "metadata": {},
   "source": [
    "# -- Loops"
   ]
  },
  {
   "cell_type": "code",
   "execution_count": 61,
   "id": "bf2b8ac0",
   "metadata": {},
   "outputs": [
    {
     "data": {
      "text/plain": [
       "['tan', 'man']"
      ]
     },
     "execution_count": 61,
     "metadata": {},
     "output_type": "execute_result"
    }
   ],
   "source": [
    "l = [3,4,5,6,7,8,9,\"tan\",\"man\"] #iteration operation\n",
    "m = []\n",
    "\n",
    "for i in l: #for loop...........\n",
    "    if type(i) == str:\n",
    "        m.append(i)\n",
    "\n",
    "m"
   ]
  },
  {
   "cell_type": "code",
   "execution_count": 62,
   "id": "bb5f8d32",
   "metadata": {},
   "outputs": [
    {
     "name": "stdout",
     "output_type": "stream",
     "text": [
      "7\n",
      "8\n",
      "9\n",
      "10\n"
     ]
    }
   ],
   "source": [
    "for i in range(len(l)):\n",
    "    if i >=5:\n",
    "        print(i+2)\n",
    "    "
   ]
  },
  {
   "cell_type": "code",
   "execution_count": 63,
   "id": "b3b942eb",
   "metadata": {},
   "outputs": [
    {
     "name": "stdout",
     "output_type": "stream",
     "text": [
      "default\n"
     ]
    }
   ],
   "source": [
    "#if else\n",
    "s =10\n",
    "if s>10:\n",
    "    print(\"yes not 10\")\n",
    "elif s==50:\n",
    "    print(\" yes equal to 50\")\n",
    "else:\n",
    "    print(\"default\")"
   ]
  },
  {
   "cell_type": "code",
   "execution_count": 64,
   "id": "3e48bcee",
   "metadata": {},
   "outputs": [
    {
     "name": "stdout",
     "output_type": "stream",
     "text": [
      "3\n",
      "4\n",
      "5\n",
      "6\n",
      "7\n",
      "8\n",
      "9\n",
      "tan\n",
      "man\n",
      "nothing left\n"
     ]
    }
   ],
   "source": [
    "for i in l:\n",
    "    print(i)\n",
    "else:\n",
    "    print(\"nothing left\")"
   ]
  },
  {
   "cell_type": "code",
   "execution_count": 65,
   "id": "51341eea",
   "metadata": {},
   "outputs": [
    {
     "name": "stdout",
     "output_type": "stream",
     "text": [
      "55\n"
     ]
    }
   ],
   "source": [
    "#while loop.......\n",
    "\n",
    "#sum of 1 to 10\n",
    "d=10\n",
    "s=0\n",
    "i=1\n",
    "while i<=d:\n",
    "    s=s+i\n",
    "    i=i+1\n",
    "print(s)    "
   ]
  },
  {
   "cell_type": "code",
   "execution_count": 66,
   "id": "52aa1657",
   "metadata": {},
   "outputs": [
    {
     "name": "stdout",
     "output_type": "stream",
     "text": [
      "t\n",
      "a\n",
      "n\n"
     ]
    }
   ],
   "source": [
    "#for else statement......\n",
    "\n",
    "for x in \"tanmay\":\n",
    "    if x== 'm':\n",
    "        break\n",
    "    print(x)\n",
    "else:\n",
    "    print(\"nothing print\") # it is due to break statement"
   ]
  },
  {
   "cell_type": "code",
   "execution_count": 67,
   "id": "d2915c60",
   "metadata": {},
   "outputs": [
    {
     "name": "stdout",
     "output_type": "stream",
     "text": [
      "t\n",
      "a\n",
      "n\n",
      "a\n",
      "y\n"
     ]
    }
   ],
   "source": [
    "for x in \"tanmay\":\n",
    "    if x== 'm':\n",
    "        continue # return control to for loop again\n",
    "    print(x)"
   ]
  },
  {
   "cell_type": "markdown",
   "id": "13399b0d",
   "metadata": {},
   "source": [
    "# -- Input"
   ]
  },
  {
   "cell_type": "code",
   "execution_count": 68,
   "id": "2febf0c3",
   "metadata": {},
   "outputs": [
    {
     "name": "stdout",
     "output_type": "stream",
     "text": [
      "h\n"
     ]
    },
    {
     "data": {
      "text/plain": [
       "str"
      ]
     },
     "execution_count": 68,
     "metadata": {},
     "output_type": "execute_result"
    }
   ],
   "source": [
    "type(input()) # everything return as string so we use typecasting"
   ]
  },
  {
   "cell_type": "code",
   "execution_count": 69,
   "id": "e0ff09f5",
   "metadata": {},
   "outputs": [
    {
     "name": "stdout",
     "output_type": "stream",
     "text": [
      "7\n"
     ]
    },
    {
     "data": {
      "text/plain": [
       "int"
      ]
     },
     "execution_count": 69,
     "metadata": {},
     "output_type": "execute_result"
    }
   ],
   "source": [
    "a=input()\n",
    "b=int(a)\n",
    "type(b)"
   ]
  },
  {
   "cell_type": "code",
   "execution_count": 70,
   "id": "fd026055",
   "metadata": {},
   "outputs": [
    {
     "name": "stdout",
     "output_type": "stream",
     "text": [
      "10\n",
      "-- 10\n",
      "yu\n",
      "-- yu\n"
     ]
    }
   ],
   "source": [
    "a = int(input())\n",
    "print(\"--\",a)\n",
    "\n",
    "s = str(input())\n",
    "print(\"--\",s)"
   ]
  },
  {
   "cell_type": "code",
   "execution_count": 72,
   "id": "ec0a6481",
   "metadata": {},
   "outputs": [
    {
     "data": {
      "text/plain": [
       "'tan1'"
      ]
     },
     "execution_count": 72,
     "metadata": {},
     "output_type": "execute_result"
    }
   ],
   "source": [
    "\"tan\" + str(1) # or + '1'\n",
    "\n",
    "#[1,2,3] + \"tan\"  error concatenate list only (work for same datatype)"
   ]
  },
  {
   "cell_type": "code",
   "execution_count": 74,
   "id": "864573cf",
   "metadata": {},
   "outputs": [
    {
     "name": "stdout",
     "output_type": "stream",
     "text": [
      "Enter no = 10\n",
      "10\n"
     ]
    }
   ],
   "source": [
    "a = int(input(\"Enter no = \"))\n",
    "print(a)"
   ]
  },
  {
   "cell_type": "markdown",
   "id": "7ceb9172",
   "metadata": {},
   "source": [
    "# Lecture No 03"
   ]
  },
  {
   "cell_type": "code",
   "execution_count": 8,
   "id": "45574862",
   "metadata": {},
   "outputs": [],
   "source": [
    "t = \"tanmay nigade\""
   ]
  },
  {
   "cell_type": "code",
   "execution_count": 9,
   "id": "5efae494",
   "metadata": {},
   "outputs": [
    {
     "data": {
      "text/plain": [
       "'tanmay nigadetanmay nigadetanmay nigade'"
      ]
     },
     "execution_count": 9,
     "metadata": {},
     "output_type": "execute_result"
    }
   ],
   "source": [
    "t*3"
   ]
  },
  {
   "cell_type": "code",
   "execution_count": 10,
   "id": "527ac2a6",
   "metadata": {},
   "outputs": [
    {
     "data": {
      "text/plain": [
       "[1, 2, 3, 'tanm', 1, 2, 3, 'tanm', 1, 2, 3, 'tanm']"
      ]
     },
     "execution_count": 10,
     "metadata": {},
     "output_type": "execute_result"
    }
   ],
   "source": [
    "[1,2,3,\"tanm\"]*3"
   ]
  },
  {
   "cell_type": "code",
   "execution_count": 11,
   "id": "5390184a",
   "metadata": {},
   "outputs": [
    {
     "data": {
      "text/plain": [
       "'TANMAY NIGADE'"
      ]
     },
     "execution_count": 11,
     "metadata": {},
     "output_type": "execute_result"
    }
   ],
   "source": [
    "#inbuild function\n",
    "\n",
    "t.upper()"
   ]
  },
  {
   "cell_type": "code",
   "execution_count": 12,
   "id": "d9cc3121",
   "metadata": {},
   "outputs": [
    {
     "data": {
      "text/plain": [
       "['tanmay', 'nigade']"
      ]
     },
     "execution_count": 12,
     "metadata": {},
     "output_type": "execute_result"
    }
   ],
   "source": [
    "t.split() #split by using space and work ony any no of occurances"
   ]
  },
  {
   "cell_type": "code",
   "execution_count": 18,
   "id": "9d641962",
   "metadata": {},
   "outputs": [
    {
     "data": {
      "text/plain": [
       "list"
      ]
     },
     "execution_count": 18,
     "metadata": {},
     "output_type": "execute_result"
    }
   ],
   "source": [
    "t = \"tanmay@nigade@eng\"\n",
    "type(t.split('@'))  #list"
   ]
  },
  {
   "cell_type": "code",
   "execution_count": 17,
   "id": "926a09c3",
   "metadata": {},
   "outputs": [
    {
     "data": {
      "text/plain": [
       "['tanmayDnigade']"
      ]
     },
     "execution_count": 17,
     "metadata": {},
     "output_type": "execute_result"
    }
   ],
   "source": [
    "t.split('@')#delimeteris @ for multiple delimeter we need to create multiple func"
   ]
  },
  {
   "cell_type": "code",
   "execution_count": 16,
   "id": "822a06ff",
   "metadata": {},
   "outputs": [
    {
     "data": {
      "text/plain": [
       "('tanmay', 'D', 'nigade')"
      ]
     },
     "execution_count": 16,
     "metadata": {},
     "output_type": "execute_result"
    }
   ],
   "source": [
    "t=\"tanmayDnigade\" #partition based on first occurance not on 2nd occurance\n",
    "t.partition('D')"
   ]
  },
  {
   "cell_type": "code",
   "execution_count": 19,
   "id": "33b6c15c",
   "metadata": {},
   "outputs": [
    {
     "data": {
      "text/plain": [
       "tuple"
      ]
     },
     "execution_count": 19,
     "metadata": {},
     "output_type": "execute_result"
    }
   ],
   "source": [
    "type(t.partition('D')) #tuple is immutable collection"
   ]
  },
  {
   "cell_type": "code",
   "execution_count": 20,
   "id": "cd364ec2",
   "metadata": {},
   "outputs": [],
   "source": [
    "d=\"thubduhdhddu\""
   ]
  },
  {
   "cell_type": "code",
   "execution_count": 21,
   "id": "9fc638c9",
   "metadata": {},
   "outputs": [
    {
     "data": {
      "text/plain": [
       "4"
      ]
     },
     "execution_count": 21,
     "metadata": {},
     "output_type": "execute_result"
    }
   ],
   "source": [
    "d.find('d') #return first occurance only if not found return -1"
   ]
  },
  {
   "cell_type": "code",
   "execution_count": 22,
   "id": "2f998da6",
   "metadata": {},
   "outputs": [],
   "source": [
    "f=\"tan\""
   ]
  },
  {
   "cell_type": "code",
   "execution_count": 23,
   "id": "ab29a7d4",
   "metadata": {},
   "outputs": [
    {
     "data": {
      "text/plain": [
       "'vvvvvvvvvvvvvvvvvvvvvvvtanvvvvvvvvvvvvvvvvvvvvvvvv'"
      ]
     },
     "execution_count": 23,
     "metadata": {},
     "output_type": "execute_result"
    }
   ],
   "source": [
    "f.center(50,'v') #fill with 50 byte of space & it take only one character i.e v"
   ]
  },
  {
   "cell_type": "code",
   "execution_count": 24,
   "id": "3678039c",
   "metadata": {},
   "outputs": [
    {
     "data": {
      "text/plain": [
       "'tanmay  nigade'"
      ]
     },
     "execution_count": 24,
     "metadata": {},
     "output_type": "execute_result"
    }
   ],
   "source": [
    "'tanmay\\tnigade'.expandtabs()"
   ]
  },
  {
   "cell_type": "code",
   "execution_count": 25,
   "id": "f53c86d6",
   "metadata": {},
   "outputs": [
    {
     "data": {
      "text/plain": [
       "'My name is Tanmay nigade'"
      ]
     },
     "execution_count": 25,
     "metadata": {},
     "output_type": "execute_result"
    }
   ],
   "source": [
    "'My name is {} nigade'.format('Tanmay') # { } it is palce folder\n",
    "#in format func we can pass multiple argument"
   ]
  },
  {
   "cell_type": "code",
   "execution_count": 26,
   "id": "66fd4fd7",
   "metadata": {},
   "outputs": [],
   "source": [
    "s = \"hello2\""
   ]
  },
  {
   "cell_type": "code",
   "execution_count": 27,
   "id": "1282fe5e",
   "metadata": {},
   "outputs": [
    {
     "data": {
      "text/plain": [
       "True"
      ]
     },
     "execution_count": 27,
     "metadata": {},
     "output_type": "execute_result"
    }
   ],
   "source": [
    "# .is function\n",
    "\n",
    "s.isalnum() #alphanumeric"
   ]
  },
  {
   "cell_type": "code",
   "execution_count": 29,
   "id": "1d52f9cf",
   "metadata": {},
   "outputs": [
    {
     "data": {
      "text/plain": [
       "False"
      ]
     },
     "execution_count": 29,
     "metadata": {},
     "output_type": "execute_result"
    }
   ],
   "source": [
    "s.isalpha()"
   ]
  },
  {
   "cell_type": "code",
   "execution_count": 30,
   "id": "9ec4631c",
   "metadata": {},
   "outputs": [
    {
     "data": {
      "text/plain": [
       "True"
      ]
     },
     "execution_count": 30,
     "metadata": {},
     "output_type": "execute_result"
    }
   ],
   "source": [
    "s.endswith('2')"
   ]
  },
  {
   "cell_type": "markdown",
   "id": "6377ac2f",
   "metadata": {},
   "source": [
    "* Array not exist in python core it present in Numpy library "
   ]
  },
  {
   "cell_type": "code",
   "execution_count": 45,
   "id": "816a3e0a",
   "metadata": {},
   "outputs": [],
   "source": [
    "#List slicing function\n",
    "\n",
    "a=[1,2,\"tanm\"]\n",
    "b=[4,5,\"man\"]"
   ]
  },
  {
   "cell_type": "code",
   "execution_count": 46,
   "id": "68b5c5d3",
   "metadata": {},
   "outputs": [
    {
     "data": {
      "text/plain": [
       "[1, 2, 'tanm', 4, 5, 'man']"
      ]
     },
     "execution_count": 46,
     "metadata": {},
     "output_type": "execute_result"
    }
   ],
   "source": [
    "a+b"
   ]
  },
  {
   "cell_type": "code",
   "execution_count": 47,
   "id": "5fcd861d",
   "metadata": {},
   "outputs": [
    {
     "data": {
      "text/plain": [
       "[4, 5, 'man', 'tush']"
      ]
     },
     "execution_count": 47,
     "metadata": {},
     "output_type": "execute_result"
    }
   ],
   "source": [
    "b+[\"tush\"] # + list(\"tush\")"
   ]
  },
  {
   "cell_type": "code",
   "execution_count": 48,
   "id": "555cafcd",
   "metadata": {},
   "outputs": [
    {
     "data": {
      "text/plain": [
       "['t', 'a', 'n', 'm', 'a', 'y']"
      ]
     },
     "execution_count": 48,
     "metadata": {},
     "output_type": "execute_result"
    }
   ],
   "source": [
    "list(\"tanmay\") #list always take iterable object"
   ]
  },
  {
   "cell_type": "code",
   "execution_count": 49,
   "id": "31886ced",
   "metadata": {},
   "outputs": [
    {
     "data": {
      "text/plain": [
       "[4, 5, 'man', 'hj']"
      ]
     },
     "execution_count": 49,
     "metadata": {},
     "output_type": "execute_result"
    }
   ],
   "source": [
    "b.append(\"hj\") #append at last\n",
    "b"
   ]
  },
  {
   "cell_type": "code",
   "execution_count": 50,
   "id": "3c668db0",
   "metadata": {},
   "outputs": [
    {
     "data": {
      "text/plain": [
       "[4, 5, 'man', 'zz', 'hj']"
      ]
     },
     "execution_count": 50,
     "metadata": {},
     "output_type": "execute_result"
    }
   ],
   "source": [
    "b.insert(3,\"zz\") # (location,object)\n",
    "b"
   ]
  },
  {
   "cell_type": "code",
   "execution_count": 52,
   "id": "ae29d518",
   "metadata": {},
   "outputs": [
    {
     "data": {
      "text/plain": [
       "'zz'"
      ]
     },
     "execution_count": 52,
     "metadata": {},
     "output_type": "execute_result"
    }
   ],
   "source": [
    "b.pop() # remove from last permently"
   ]
  },
  {
   "cell_type": "code",
   "execution_count": 53,
   "id": "ec1bcb2a",
   "metadata": {},
   "outputs": [
    {
     "data": {
      "text/plain": [
       "[4, 5, 'man']"
      ]
     },
     "execution_count": 53,
     "metadata": {},
     "output_type": "execute_result"
    }
   ],
   "source": [
    "b # poping last two item after running above two time"
   ]
  },
  {
   "cell_type": "code",
   "execution_count": 55,
   "id": "271aa80b",
   "metadata": {},
   "outputs": [
    {
     "data": {
      "text/plain": [
       "[4, 5, 'man']"
      ]
     },
     "execution_count": 55,
     "metadata": {},
     "output_type": "execute_result"
    }
   ],
   "source": [
    "b.reverse() # it reverse permently b[::-1] it reverse temoprarly\n",
    "b"
   ]
  },
  {
   "cell_type": "code",
   "execution_count": 3,
   "id": "6c2c1065",
   "metadata": {},
   "outputs": [
    {
     "data": {
      "text/plain": [
       "[1, 2, 6]"
      ]
     },
     "execution_count": 3,
     "metadata": {},
     "output_type": "execute_result"
    }
   ],
   "source": [
    "n =[1,6,2] #use only similar data\n",
    "n.sort() # n.sort(reverse=True) descending order\n",
    "n"
   ]
  },
  {
   "cell_type": "code",
   "execution_count": 7,
   "id": "aca81046",
   "metadata": {},
   "outputs": [
    {
     "data": {
      "text/plain": [
       "[[6, 7, 8], [5, 4, 1], [1, 4, 2, 1, 5]]"
      ]
     },
     "execution_count": 7,
     "metadata": {},
     "output_type": "execute_result"
    }
   ],
   "source": [
    "a=[6,7,8]\n",
    "b=[5,4,1]\n",
    "c=[1,4,2,1,5]\n",
    "\n",
    "d=[a,b,c] # nested list\n",
    "d"
   ]
  },
  {
   "cell_type": "code",
   "execution_count": 8,
   "id": "e98d5788",
   "metadata": {},
   "outputs": [
    {
     "data": {
      "text/plain": [
       "[1, 2, 5]"
      ]
     },
     "execution_count": 8,
     "metadata": {},
     "output_type": "execute_result"
    }
   ],
   "source": [
    "d[-1][::2]"
   ]
  },
  {
   "cell_type": "code",
   "execution_count": 9,
   "id": "c9523125",
   "metadata": {},
   "outputs": [
    {
     "data": {
      "text/plain": [
       "[[1, 4, 2, 1, 5], [5, 4, 1], [6, 7, 8]]"
      ]
     },
     "execution_count": 9,
     "metadata": {},
     "output_type": "execute_result"
    }
   ],
   "source": [
    "#reverse list of list\n",
    "m=[]\n",
    "d.reverse()\n",
    "for b in d:\n",
    "    m.append(b[::-1])\n",
    "\n",
    "d # entire list reverse\n",
    " "
   ]
  },
  {
   "cell_type": "code",
   "execution_count": 10,
   "id": "64c7e3d4",
   "metadata": {},
   "outputs": [
    {
     "data": {
      "text/plain": [
       "[[5, 1, 2, 4, 1], [1, 4, 5], [8, 7, 6]]"
      ]
     },
     "execution_count": 10,
     "metadata": {},
     "output_type": "execute_result"
    }
   ],
   "source": [
    "m # individual list of list reverse"
   ]
  },
  {
   "cell_type": "code",
   "execution_count": 12,
   "id": "3903771c",
   "metadata": {},
   "outputs": [
    {
     "data": {
      "text/plain": [
       "[4, 10, 12]"
      ]
     },
     "execution_count": 12,
     "metadata": {},
     "output_type": "execute_result"
    }
   ],
   "source": [
    "n=[]\n",
    "for i in m:\n",
    "    n.append(i[2]*2) # return 2nd position value of list of list\n",
    "    \n",
    "n # 2nd approach below"
   ]
  },
  {
   "cell_type": "markdown",
   "id": "69f2e5a5",
   "metadata": {},
   "source": [
    "* List comprehensions in Python provide a concise way to create lists using a single line of code with a clear syntax for iteration and conditional logic, but they can be less readable and harder to debug for complex expressions."
   ]
  },
  {
   "cell_type": "code",
   "execution_count": 14,
   "id": "af3ea3a7",
   "metadata": {},
   "outputs": [
    {
     "data": {
      "text/plain": [
       "[4, 10, 12]"
      ]
     },
     "execution_count": 14,
     "metadata": {},
     "output_type": "execute_result"
    }
   ],
   "source": [
    "# list comprehension....\n",
    "\n",
    "[i[2]*2 for i in m]\n",
    " "
   ]
  },
  {
   "cell_type": "code",
   "execution_count": 15,
   "id": "29a72dce",
   "metadata": {},
   "outputs": [],
   "source": [
    "s=[1,2,3]"
   ]
  },
  {
   "cell_type": "code",
   "execution_count": 16,
   "id": "eee94c11",
   "metadata": {},
   "outputs": [
    {
     "data": {
      "text/plain": [
       "[1, 2, 3, [2, 3, 4]]"
      ]
     },
     "execution_count": 16,
     "metadata": {},
     "output_type": "execute_result"
    }
   ],
   "source": [
    "s.append([2,3,4]) # it insert directly\n",
    "s"
   ]
  },
  {
   "cell_type": "code",
   "execution_count": 18,
   "id": "ed75fb21",
   "metadata": {},
   "outputs": [
    {
     "data": {
      "text/plain": [
       "[1, 2, 6, 8, 9, 'tan', 6, 7, 8, 'dss']"
      ]
     },
     "execution_count": 18,
     "metadata": {},
     "output_type": "execute_result"
    }
   ],
   "source": [
    "m = [1,2,6,8,9,\"tan\"]\n",
    "m.extend([6,7,8,\"dss\"]) # it first unwrap and insert\n",
    "m"
   ]
  },
  {
   "cell_type": "markdown",
   "id": "3433f2bd",
   "metadata": {},
   "source": [
    "# Lecture No 04"
   ]
  },
  {
   "cell_type": "markdown",
   "id": "1b453c41",
   "metadata": {},
   "source": [
    "* List and Tuple are have same operation but difference is\n"
   ]
  },
  {
   "cell_type": "markdown",
   "id": "68f318eb",
   "metadata": {},
   "source": [
    "# -- Tuples "
   ]
  },
  {
   "cell_type": "code",
   "execution_count": 16,
   "id": "5ae790d4",
   "metadata": {},
   "outputs": [],
   "source": [
    "l=[1,2,3,\"tan\"] # list[]............"
   ]
  },
  {
   "cell_type": "code",
   "execution_count": 8,
   "id": "9279075e",
   "metadata": {},
   "outputs": [
    {
     "data": {
      "text/plain": [
       "(1, 2, 3, 4, 5, 'tan', 4.5)"
      ]
     },
     "execution_count": 8,
     "metadata": {},
     "output_type": "execute_result"
    }
   ],
   "source": [
    "t=(1,2,3,4,5,\"tan\",4.5) # tuples()...........\n",
    "t"
   ]
  },
  {
   "cell_type": "code",
   "execution_count": 9,
   "id": "865d7d88",
   "metadata": {},
   "outputs": [
    {
     "data": {
      "text/plain": [
       "tuple"
      ]
     },
     "execution_count": 9,
     "metadata": {},
     "output_type": "execute_result"
    }
   ],
   "source": [
    "type(t)"
   ]
  },
  {
   "cell_type": "markdown",
   "id": "d9a88b7b",
   "metadata": {},
   "source": [
    "* Diiference 1"
   ]
  },
  {
   "cell_type": "code",
   "execution_count": 10,
   "id": "36d30f02",
   "metadata": {},
   "outputs": [
    {
     "data": {
      "text/plain": [
       "1"
      ]
     },
     "execution_count": 10,
     "metadata": {},
     "output_type": "execute_result"
    }
   ],
   "source": [
    "t[0]"
   ]
  },
  {
   "cell_type": "code",
   "execution_count": 11,
   "id": "87054a33",
   "metadata": {},
   "outputs": [
    {
     "data": {
      "text/plain": [
       "['man', 2, 3, 'tan']"
      ]
     },
     "execution_count": 11,
     "metadata": {},
     "output_type": "execute_result"
    }
   ],
   "source": [
    "l[0]=\"man\" #support reassignment assignment(mutable)\n",
    "l"
   ]
  },
  {
   "cell_type": "code",
   "execution_count": 13,
   "id": "93d63428",
   "metadata": {},
   "outputs": [
    {
     "ename": "TypeError",
     "evalue": "'tuple' object does not support item assignment",
     "output_type": "error",
     "traceback": [
      "\u001b[1;31m---------------------------------------------------------------------------\u001b[0m",
      "\u001b[1;31mTypeError\u001b[0m                                 Traceback (most recent call last)",
      "\u001b[1;32m~\\AppData\\Local\\Temp\\ipykernel_12260\\785317675.py\u001b[0m in \u001b[0;36m<module>\u001b[1;34m\u001b[0m\n\u001b[1;32m----> 1\u001b[1;33m \u001b[0mt\u001b[0m\u001b[1;33m[\u001b[0m\u001b[1;36m0\u001b[0m\u001b[1;33m]\u001b[0m\u001b[1;33m=\u001b[0m\u001b[1;34m\"man\"\u001b[0m \u001b[1;31m# doesnot support reassignment assignment(immutable)\u001b[0m\u001b[1;33m\u001b[0m\u001b[1;33m\u001b[0m\u001b[0m\n\u001b[0m\u001b[0;32m      2\u001b[0m \u001b[1;33m\u001b[0m\u001b[0m\n\u001b[0;32m      3\u001b[0m \u001b[1;31m#string also doesnot support reassignment assignment(immutable)\u001b[0m\u001b[1;33m\u001b[0m\u001b[1;33m\u001b[0m\u001b[0m\n",
      "\u001b[1;31mTypeError\u001b[0m: 'tuple' object does not support item assignment"
     ]
    }
   ],
   "source": [
    "t[0]=\"man\" # doesnot support reassignment assignment(immutable)\n",
    "\n",
    "#string also doesnot support reassignment assignment(immutable)"
   ]
  },
  {
   "cell_type": "markdown",
   "id": "8372ba17",
   "metadata": {},
   "source": [
    "* Diiference 2 tuple has two inbuild function count and index"
   ]
  },
  {
   "cell_type": "code",
   "execution_count": 23,
   "id": "de16badd",
   "metadata": {},
   "outputs": [
    {
     "name": "stdout",
     "output_type": "stream",
     "text": [
      "1\n",
      "2\n",
      "3\n",
      "4\n",
      "5\n",
      "tan\n",
      "4.5\n"
     ]
    }
   ],
   "source": [
    "for i in t:\n",
    "    print(i)"
   ]
  },
  {
   "cell_type": "code",
   "execution_count": 20,
   "id": "d0d060bd",
   "metadata": {},
   "outputs": [],
   "source": [
    "n = [1,2,3]"
   ]
  },
  {
   "cell_type": "code",
   "execution_count": 22,
   "id": "5a386c23",
   "metadata": {},
   "outputs": [
    {
     "name": "stdout",
     "output_type": "stream",
     "text": [
      "1\n",
      "2\n",
      "3\n"
     ]
    }
   ],
   "source": [
    "for j in n:\n",
    "    print(j)"
   ]
  },
  {
   "cell_type": "code",
   "execution_count": 24,
   "id": "e4f504df",
   "metadata": {},
   "outputs": [],
   "source": [
    "#tuple return first occurance of index\n",
    "#concatenation is performed in tuple but not append,insert....\n",
    "\n",
    "t=(4,5,6,7) # insertion = tuple->list->tuple"
   ]
  },
  {
   "cell_type": "code",
   "execution_count": 25,
   "id": "86d95ccb",
   "metadata": {},
   "outputs": [],
   "source": [
    "l=list(t)"
   ]
  },
  {
   "cell_type": "code",
   "execution_count": 26,
   "id": "f86060e6",
   "metadata": {},
   "outputs": [],
   "source": [
    "l.insert(2,\"tan\")"
   ]
  },
  {
   "cell_type": "code",
   "execution_count": 27,
   "id": "b5643d7f",
   "metadata": {},
   "outputs": [
    {
     "data": {
      "text/plain": [
       "[4, 5, 'tan', 6, 7]"
      ]
     },
     "execution_count": 27,
     "metadata": {},
     "output_type": "execute_result"
    }
   ],
   "source": [
    "l"
   ]
  },
  {
   "cell_type": "code",
   "execution_count": 28,
   "id": "9199acfd",
   "metadata": {},
   "outputs": [
    {
     "data": {
      "text/plain": [
       "(4, 5, 'tan', 6, 7)"
      ]
     },
     "execution_count": 28,
     "metadata": {},
     "output_type": "execute_result"
    }
   ],
   "source": [
    "tuple(l) # again get tuple"
   ]
  },
  {
   "cell_type": "markdown",
   "id": "df5e3c15",
   "metadata": {},
   "source": [
    "# -- Set"
   ]
  },
  {
   "cell_type": "code",
   "execution_count": 2,
   "id": "f065397a",
   "metadata": {},
   "outputs": [
    {
     "data": {
      "text/plain": [
       "{1, 2, 3, 4, 5, 'Tan', 'tan'}"
      ]
     },
     "execution_count": 2,
     "metadata": {},
     "output_type": "execute_result"
    }
   ],
   "source": [
    "s= set([1,2,3,4,1,1,2,3,3,4,5,\"tan\",\"tan\",\"Tan\"]) #passing list as argument\n",
    "\n",
    "s # return only unique remove duplicates\n",
    "# set is case senstive and support hetrogenous data"
   ]
  },
  {
   "cell_type": "code",
   "execution_count": 3,
   "id": "56e6e34e",
   "metadata": {},
   "outputs": [
    {
     "ename": "TypeError",
     "evalue": "'set' object is not subscriptable",
     "output_type": "error",
     "traceback": [
      "\u001b[1;31m---------------------------------------------------------------------------\u001b[0m",
      "\u001b[1;31mTypeError\u001b[0m                                 Traceback (most recent call last)",
      "\u001b[1;32m~\\AppData\\Local\\Temp\\ipykernel_15712\\243613605.py\u001b[0m in \u001b[0;36m<module>\u001b[1;34m\u001b[0m\n\u001b[1;32m----> 1\u001b[1;33m \u001b[0ms\u001b[0m\u001b[1;33m[\u001b[0m\u001b[1;36m0\u001b[0m\u001b[1;33m]\u001b[0m\u001b[1;33m\u001b[0m\u001b[1;33m\u001b[0m\u001b[0m\n\u001b[0m",
      "\u001b[1;31mTypeError\u001b[0m: 'set' object is not subscriptable"
     ]
    }
   ],
   "source": [
    "s[0]"
   ]
  },
  {
   "cell_type": "code",
   "execution_count": 4,
   "id": "823b3a8e",
   "metadata": {},
   "outputs": [
    {
     "name": "stdout",
     "output_type": "stream",
     "text": [
      "1\n",
      "2\n",
      "3\n",
      "4\n",
      "5\n",
      "tan\n",
      "Tan\n"
     ]
    }
   ],
   "source": [
    "for i in s:\n",
    "    print(i) "
   ]
  },
  {
   "cell_type": "code",
   "execution_count": 5,
   "id": "b57efc44",
   "metadata": {},
   "outputs": [
    {
     "data": {
      "text/plain": [
       "{2, 3, 4, 5}"
      ]
     },
     "execution_count": 5,
     "metadata": {},
     "output_type": "execute_result"
    }
   ],
   "source": [
    "d=set((3,4,5,2,3,4)) #passing tuples as argument\n",
    "d"
   ]
  },
  {
   "cell_type": "code",
   "execution_count": 6,
   "id": "c2f64a83",
   "metadata": {},
   "outputs": [
    {
     "data": {
      "text/plain": [
       "[5, 4, 3, 2]"
      ]
     },
     "execution_count": 6,
     "metadata": {},
     "output_type": "execute_result"
    }
   ],
   "source": [
    "#convert to list\n",
    "list(d)[::-1]#reverse"
   ]
  },
  {
   "cell_type": "code",
   "execution_count": 9,
   "id": "5078a897",
   "metadata": {},
   "outputs": [
    {
     "data": {
      "text/plain": [
       "dict"
      ]
     },
     "execution_count": 9,
     "metadata": {},
     "output_type": "execute_result"
    }
   ],
   "source": [
    "b={}\n",
    "type(b)"
   ]
  },
  {
   "cell_type": "code",
   "execution_count": 10,
   "id": "a62a6889",
   "metadata": {},
   "outputs": [
    {
     "data": {
      "text/plain": [
       "set"
      ]
     },
     "execution_count": 10,
     "metadata": {},
     "output_type": "execute_result"
    }
   ],
   "source": [
    "b={2}\n",
    "type(b)"
   ]
  },
  {
   "cell_type": "code",
   "execution_count": 14,
   "id": "f883b721",
   "metadata": {},
   "outputs": [
    {
     "data": {
      "text/plain": [
       "{'tan'}"
      ]
     },
     "execution_count": 14,
     "metadata": {},
     "output_type": "execute_result"
    }
   ],
   "source": [
    "b.add(\"tan\")\n",
    "b"
   ]
  },
  {
   "cell_type": "code",
   "execution_count": 12,
   "id": "cf846e74",
   "metadata": {},
   "outputs": [
    {
     "data": {
      "text/plain": [
       "2"
      ]
     },
     "execution_count": 12,
     "metadata": {},
     "output_type": "execute_result"
    }
   ],
   "source": [
    "b.pop()"
   ]
  },
  {
   "cell_type": "code",
   "execution_count": 15,
   "id": "d76b3283",
   "metadata": {},
   "outputs": [
    {
     "ename": "TypeError",
     "evalue": "set.pop() takes no arguments (1 given)",
     "output_type": "error",
     "traceback": [
      "\u001b[1;31m---------------------------------------------------------------------------\u001b[0m",
      "\u001b[1;31mTypeError\u001b[0m                                 Traceback (most recent call last)",
      "\u001b[1;32m~\\AppData\\Local\\Temp\\ipykernel_15712\\2979832638.py\u001b[0m in \u001b[0;36m<module>\u001b[1;34m\u001b[0m\n\u001b[1;32m----> 1\u001b[1;33m \u001b[0mb\u001b[0m\u001b[1;33m.\u001b[0m\u001b[0mpop\u001b[0m\u001b[1;33m(\u001b[0m\u001b[1;36m0\u001b[0m\u001b[1;33m)\u001b[0m\u001b[1;33m\u001b[0m\u001b[1;33m\u001b[0m\u001b[0m\n\u001b[0m",
      "\u001b[1;31mTypeError\u001b[0m: set.pop() takes no arguments (1 given)"
     ]
    }
   ],
   "source": [
    "b.pop(0)  # from particular location"
   ]
  },
  {
   "cell_type": "code",
   "execution_count": 17,
   "id": "55a4b1be",
   "metadata": {},
   "outputs": [
    {
     "data": {
      "text/plain": [
       "{'##', 0, 1, 2, 24, 3, 4, 5, 565, 6, 7, 'abc', 'tan'}"
      ]
     },
     "execution_count": 17,
     "metadata": {},
     "output_type": "execute_result"
    }
   ],
   "source": [
    "# according to set defination it is unordered collection but \n",
    "#it return above ordered data\n",
    "\n",
    "s={4,5,6,7,3,4,7,2,0,1,2,565,24,\"abc\",\"##\",\"tan\"}\n",
    "\n",
    "s # here we see defination is correct its ordered but not sortedi.e 2,24 dueto 2"
   ]
  },
  {
   "cell_type": "code",
   "execution_count": 18,
   "id": "4aadb20d",
   "metadata": {},
   "outputs": [
    {
     "data": {
      "text/plain": [
       "{1, 2, 3, 4}"
      ]
     },
     "execution_count": 18,
     "metadata": {},
     "output_type": "execute_result"
    }
   ],
   "source": [
    "l=[1,2,3,4]\n",
    "\n",
    "s=set(l)\n",
    "s"
   ]
  },
  {
   "cell_type": "markdown",
   "id": "836c6b99",
   "metadata": {},
   "source": [
    "# -- Dictionary"
   ]
  },
  {
   "cell_type": "code",
   "execution_count": 19,
   "id": "4545ca69",
   "metadata": {},
   "outputs": [
    {
     "data": {
      "text/plain": [
       "dict"
      ]
     },
     "execution_count": 19,
     "metadata": {},
     "output_type": "execute_result"
    }
   ],
   "source": [
    "d={}  # word is unique in dictionary\n",
    "type(d)"
   ]
  },
  {
   "cell_type": "code",
   "execution_count": 22,
   "id": "0b43e3ff",
   "metadata": {},
   "outputs": [
    {
     "data": {
      "text/plain": [
       "{1: 'ID', 'name': 'xy', 'surname': 'Nigade'}"
      ]
     },
     "execution_count": 22,
     "metadata": {},
     "output_type": "execute_result"
    }
   ],
   "source": [
    "d= {1:\"ID\",\"name\":\"Tanmay\",\"surname\":\"Nigade\",\"name\":\"xy\"} # store data in form of key:value pair\n",
    "d #ovveride latest value for same key but duplicate value allowed"
   ]
  },
  {
   "cell_type": "code",
   "execution_count": 24,
   "id": "bbb51add",
   "metadata": {},
   "outputs": [
    {
     "data": {
      "text/plain": [
       "{'key': [1, 2, [23, 2]],\n",
       " 'key1': (3, 3, 1),\n",
       " 'key2': {1, 2, 3, 4},\n",
       " 'key3': {'x': 'tan'}}"
      ]
     },
     "execution_count": 24,
     "metadata": {},
     "output_type": "execute_result"
    }
   ],
   "source": [
    "d={\"key\":[1,2,[23,2]],\"key1\":(3,3,1),\"key2\":{2,3,1,4},\"key3\":{'x':\"tan\"}} # dictionary as \n",
    "#list , set, tuple, dictionary\n",
    "\n",
    "d"
   ]
  },
  {
   "cell_type": "code",
   "execution_count": 25,
   "id": "5205f5c5",
   "metadata": {},
   "outputs": [
    {
     "ename": "KeyError",
     "evalue": "0",
     "output_type": "error",
     "traceback": [
      "\u001b[1;31m---------------------------------------------------------------------------\u001b[0m",
      "\u001b[1;31mKeyError\u001b[0m                                  Traceback (most recent call last)",
      "\u001b[1;32m~\\AppData\\Local\\Temp\\ipykernel_15712\\1089268471.py\u001b[0m in \u001b[0;36m<module>\u001b[1;34m\u001b[0m\n\u001b[1;32m----> 1\u001b[1;33m \u001b[0md\u001b[0m\u001b[1;33m[\u001b[0m\u001b[1;36m0\u001b[0m\u001b[1;33m]\u001b[0m\u001b[1;33m\u001b[0m\u001b[1;33m\u001b[0m\u001b[0m\n\u001b[0m",
      "\u001b[1;31mKeyError\u001b[0m: 0"
     ]
    }
   ],
   "source": [
    "d[0] # do not store data as indexes"
   ]
  },
  {
   "cell_type": "code",
   "execution_count": 26,
   "id": "2ca32342",
   "metadata": {},
   "outputs": [
    {
     "data": {
      "text/plain": [
       "[1, 2, [23, 2]]"
      ]
     },
     "execution_count": 26,
     "metadata": {},
     "output_type": "execute_result"
    }
   ],
   "source": [
    "d['key']"
   ]
  },
  {
   "cell_type": "code",
   "execution_count": 27,
   "id": "034e179f",
   "metadata": {},
   "outputs": [
    {
     "data": {
      "text/plain": [
       "2"
      ]
     },
     "execution_count": 27,
     "metadata": {},
     "output_type": "execute_result"
    }
   ],
   "source": [
    "d['key'][2][1]"
   ]
  },
  {
   "cell_type": "code",
   "execution_count": 28,
   "id": "5e61e211",
   "metadata": {},
   "outputs": [
    {
     "data": {
      "text/plain": [
       "'tan'"
      ]
     },
     "execution_count": 28,
     "metadata": {},
     "output_type": "execute_result"
    }
   ],
   "source": [
    "d['key3']['x']"
   ]
  },
  {
   "cell_type": "code",
   "execution_count": 33,
   "id": "e997d579",
   "metadata": {},
   "outputs": [
    {
     "name": "stdout",
     "output_type": "stream",
     "text": [
      "[1, 2, [23, 2]]\n",
      "(3, 3, 1)\n",
      "{1, 2, 3, 4}\n",
      "{'x': 'tan'}\n"
     ]
    }
   ],
   "source": [
    "for i in d:\n",
    "    print(d[i]) # print(i) return key"
   ]
  },
  {
   "cell_type": "code",
   "execution_count": 35,
   "id": "ecd9bfe0",
   "metadata": {},
   "outputs": [
    {
     "data": {
      "text/plain": [
       "dict_keys(['key', 'key1', 'key2', 'key3'])"
      ]
     },
     "execution_count": 35,
     "metadata": {},
     "output_type": "execute_result"
    }
   ],
   "source": [
    "d.keys() #return list of keys"
   ]
  },
  {
   "cell_type": "code",
   "execution_count": 36,
   "id": "ede673b4",
   "metadata": {},
   "outputs": [
    {
     "data": {
      "text/plain": [
       "dict_values([[1, 2, [23, 2]], (3, 3, 1), {1, 2, 3, 4}, {'x': 'tan'}])"
      ]
     },
     "execution_count": 36,
     "metadata": {},
     "output_type": "execute_result"
    }
   ],
   "source": [
    "d.values() #return values "
   ]
  },
  {
   "cell_type": "code",
   "execution_count": 37,
   "id": "9317ff39",
   "metadata": {},
   "outputs": [],
   "source": [
    "m=[]\n",
    "for i in d.values():\n",
    "    if type(i)==tuple:\n",
    "        for j in i :\n",
    "            m.append(j)"
   ]
  },
  {
   "cell_type": "code",
   "execution_count": 38,
   "id": "899ece23",
   "metadata": {},
   "outputs": [
    {
     "data": {
      "text/plain": [
       "[3, 3, 1]"
      ]
     },
     "execution_count": 38,
     "metadata": {},
     "output_type": "execute_result"
    }
   ],
   "source": [
    "m"
   ]
  },
  {
   "cell_type": "code",
   "execution_count": 39,
   "id": "e8970324",
   "metadata": {},
   "outputs": [],
   "source": [
    "#add data\n",
    "d[\"key4\"]=\"Data added\""
   ]
  },
  {
   "cell_type": "code",
   "execution_count": 40,
   "id": "6f8240aa",
   "metadata": {},
   "outputs": [
    {
     "data": {
      "text/plain": [
       "{'key': [1, 2, [23, 2]],\n",
       " 'key1': (3, 3, 1),\n",
       " 'key2': {1, 2, 3, 4},\n",
       " 'key3': {'x': 'tan'},\n",
       " 'key4': 'Data added'}"
      ]
     },
     "execution_count": 40,
     "metadata": {},
     "output_type": "execute_result"
    }
   ],
   "source": [
    "d # for existing we assign new value it overwrite"
   ]
  },
  {
   "cell_type": "code",
   "execution_count": 44,
   "id": "0755a4f1",
   "metadata": {},
   "outputs": [
    {
     "data": {
      "text/plain": [
       "dict_items([(0, 0), (1, 1), (2, 4), (3, 9), (4, 16), (5, 25), (6, 36), (7, 49), (8, 64), (9, 81)])"
      ]
     },
     "execution_count": 44,
     "metadata": {},
     "output_type": "execute_result"
    }
   ],
   "source": [
    "d.items() #tuple of item"
   ]
  },
  {
   "cell_type": "code",
   "execution_count": 41,
   "id": "155553cc",
   "metadata": {},
   "outputs": [
    {
     "data": {
      "text/plain": [
       "{0: 0, 1: 1, 2: 4, 3: 9, 4: 16, 5: 25, 6: 36, 7: 49, 8: 64, 9: 81}"
      ]
     },
     "execution_count": 41,
     "metadata": {},
     "output_type": "execute_result"
    }
   ],
   "source": [
    "#Dictionary comprehension.............\n",
    "\n",
    "#here key is int and value is its square\n",
    "\n",
    "d ={}\n",
    "for i in range(10):\n",
    "    d[i]=i**2 # square of no\n",
    "    \n",
    "d"
   ]
  },
  {
   "cell_type": "code",
   "execution_count": 43,
   "id": "7329ae59",
   "metadata": {},
   "outputs": [
    {
     "data": {
      "text/plain": [
       "{0: 0, 1: 1, 2: 4, 3: 9, 4: 16, 5: 25, 6: 36, 7: 49, 8: 64, 9: 81}"
      ]
     },
     "execution_count": 43,
     "metadata": {},
     "output_type": "execute_result"
    }
   ],
   "source": [
    "#achieve above in single line by using Dictionary comprehension\n",
    "\n",
    "{i:i**2 for i in range(1 0)}"
   ]
  },
  {
   "cell_type": "markdown",
   "id": "fb0343e3",
   "metadata": {},
   "source": [
    "# -- Functions"
   ]
  },
  {
   "cell_type": "code",
   "execution_count": 45,
   "id": "ba98eec1",
   "metadata": {},
   "outputs": [],
   "source": [
    "#python is functional programming language\n",
    "\n",
    "def demo():\n",
    "    pass  # we dont want body of function then use this keyword\n",
    "# function with no argument"
   ]
  },
  {
   "cell_type": "code",
   "execution_count": 48,
   "id": "eb69711a",
   "metadata": {},
   "outputs": [
    {
     "data": {
      "text/plain": [
       "NoneType"
      ]
     },
     "execution_count": 48,
     "metadata": {},
     "output_type": "execute_result"
    }
   ],
   "source": [
    "type(demo())"
   ]
  },
  {
   "cell_type": "code",
   "execution_count": 49,
   "id": "7fef47df",
   "metadata": {},
   "outputs": [],
   "source": [
    "def demo():\n",
    "    print(\"hello\")"
   ]
  },
  {
   "cell_type": "code",
   "execution_count": 51,
   "id": "f943e6bd",
   "metadata": {},
   "outputs": [
    {
     "name": "stdout",
     "output_type": "stream",
     "text": [
      "hello\n"
     ]
    },
    {
     "ename": "TypeError",
     "evalue": "unsupported operand type(s) for +: 'NoneType' and 'str'",
     "output_type": "error",
     "traceback": [
      "\u001b[1;31m---------------------------------------------------------------------------\u001b[0m",
      "\u001b[1;31mTypeError\u001b[0m                                 Traceback (most recent call last)",
      "\u001b[1;32m~\\AppData\\Local\\Temp\\ipykernel_15712\\709865915.py\u001b[0m in \u001b[0;36m<module>\u001b[1;34m\u001b[0m\n\u001b[1;32m----> 1\u001b[1;33m \u001b[0mdemo\u001b[0m\u001b[1;33m(\u001b[0m\u001b[1;33m)\u001b[0m \u001b[1;33m+\u001b[0m \u001b[1;34m\"world\"\u001b[0m\u001b[1;33m\u001b[0m\u001b[1;33m\u001b[0m\u001b[0m\n\u001b[0m",
      "\u001b[1;31mTypeError\u001b[0m: unsupported operand type(s) for +: 'NoneType' and 'str'"
     ]
    }
   ],
   "source": [
    "demo() + \"world\" # no primitive operation "
   ]
  },
  {
   "cell_type": "code",
   "execution_count": 52,
   "id": "780cf6de",
   "metadata": {},
   "outputs": [],
   "source": [
    "def test():\n",
    "    a=4\n",
    "    b=5\n",
    "    return a+b"
   ]
  },
  {
   "cell_type": "code",
   "execution_count": 53,
   "id": "b1d33d1c",
   "metadata": {},
   "outputs": [
    {
     "data": {
      "text/plain": [
       "9"
      ]
     },
     "execution_count": 53,
     "metadata": {},
     "output_type": "execute_result"
    }
   ],
   "source": [
    "test()"
   ]
  },
  {
   "cell_type": "code",
   "execution_count": 54,
   "id": "3724aae4",
   "metadata": {},
   "outputs": [
    {
     "data": {
      "text/plain": [
       "19"
      ]
     },
     "execution_count": 54,
     "metadata": {},
     "output_type": "execute_result"
    }
   ],
   "source": [
    "n = test()\n",
    "n+10 #same type perform well in same datatype"
   ]
  },
  {
   "cell_type": "code",
   "execution_count": 57,
   "id": "c43436eb",
   "metadata": {},
   "outputs": [],
   "source": [
    "#argument at runtime we can pass any argument str,list,...\n",
    "\n",
    "def test(a,b):\n",
    "    return a+b, a*b"
   ]
  },
  {
   "cell_type": "code",
   "execution_count": 60,
   "id": "3aeb8989",
   "metadata": {},
   "outputs": [],
   "source": [
    "x,y= test(1,4)"
   ]
  },
  {
   "cell_type": "code",
   "execution_count": 61,
   "id": "173b7b61",
   "metadata": {},
   "outputs": [
    {
     "name": "stdout",
     "output_type": "stream",
     "text": [
      "5\n",
      "4\n"
     ]
    }
   ],
   "source": [
    "print(x)\n",
    "print(y)"
   ]
  },
  {
   "cell_type": "code",
   "execution_count": 62,
   "id": "8c917799",
   "metadata": {},
   "outputs": [
    {
     "data": {
      "text/plain": [
       "4.5"
      ]
     },
     "execution_count": 62,
     "metadata": {},
     "output_type": "execute_result"
    }
   ],
   "source": [
    "a,b,c= 1,4.5,\"tan\"\n",
    "\n",
    "b"
   ]
  },
  {
   "cell_type": "code",
   "execution_count": 63,
   "id": "e9f15c8a",
   "metadata": {},
   "outputs": [],
   "source": [
    "def test(a,b=\"tan\"):\n",
    "    return a+b"
   ]
  },
  {
   "cell_type": "code",
   "execution_count": 64,
   "id": "06bdc9d0",
   "metadata": {},
   "outputs": [
    {
     "data": {
      "text/plain": [
       "'Mrtan'"
      ]
     },
     "execution_count": 64,
     "metadata": {},
     "output_type": "execute_result"
    }
   ],
   "source": [
    "test(\"Mr\")"
   ]
  },
  {
   "cell_type": "code",
   "execution_count": 65,
   "id": "dc7acbc6",
   "metadata": {},
   "outputs": [
    {
     "data": {
      "text/plain": [
       "'mrman'"
      ]
     },
     "execution_count": 65,
     "metadata": {},
     "output_type": "execute_result"
    }
   ],
   "source": [
    "test(\"mr\",\"man\") #overwrite"
   ]
  },
  {
   "cell_type": "code",
   "execution_count": 66,
   "id": "593776ab",
   "metadata": {},
   "outputs": [
    {
     "data": {
      "text/plain": [
       "range(0, 10)"
      ]
     },
     "execution_count": 66,
     "metadata": {},
     "output_type": "execute_result"
    }
   ],
   "source": [
    "#Range is generator function it give object not data \n",
    "#for data it iterate over it using loop,list....\n",
    "\n",
    "range(10)"
   ]
  },
  {
   "cell_type": "code",
   "execution_count": null,
   "id": "85e620bb",
   "metadata": {},
   "outputs": [],
   "source": []
  }
 ],
 "metadata": {
  "kernelspec": {
   "display_name": "Python 3 (ipykernel)",
   "language": "python",
   "name": "python3"
  },
  "language_info": {
   "codemirror_mode": {
    "name": "ipython",
    "version": 3
   },
   "file_extension": ".py",
   "mimetype": "text/x-python",
   "name": "python",
   "nbconvert_exporter": "python",
   "pygments_lexer": "ipython3",
   "version": "3.9.13"
  }
 },
 "nbformat": 4,
 "nbformat_minor": 5
}
